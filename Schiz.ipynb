{
  "nbformat": 4,
  "nbformat_minor": 0,
  "metadata": {
    "colab": {
      "provenance": [],
      "gpuType": "T4",
      "include_colab_link": true
    },
    "kernelspec": {
      "name": "python3",
      "display_name": "Python 3"
    },
    "language_info": {
      "name": "python"
    },
    "accelerator": "GPU"
  },
  "cells": [
    {
      "cell_type": "markdown",
      "metadata": {
        "id": "view-in-github",
        "colab_type": "text"
      },
      "source": [
        "<a href=\"https://colab.research.google.com/github/ani-sh2301/ML1/blob/main/Schiz.ipynb\" target=\"_parent\"><img src=\"https://colab.research.google.com/assets/colab-badge.svg\" alt=\"Open In Colab\"/></a>"
      ]
    },
    {
      "cell_type": "code",
      "execution_count": null,
      "metadata": {
        "id": "2Ghza2iYPgV-"
      },
      "outputs": [],
      "source": [
        "import pandas as pd\n",
        "import numpy as np\n",
        "import matplotlib.pyplot as plt\n",
        "import tensorflow as tf\n",
        "import tensorflow_hub as hub\n",
        "import matplotlib.pyplot as plt\n",
        "\n",
        "from sklearn.feature_extraction.text import CountVectorizer\n",
        "from sklearn.svm import SVC\n",
        "\n",
        "from sklearn.feature_extraction.text import CountVectorizer\n",
        "from sklearn.naive_bayes import MultinomialNB\n",
        "from sklearn.metrics import accuracy_score, classification_report\n",
        "\n",
        "from sklearn.feature_extraction.text import TfidfVectorizer\n",
        "from sklearn.pipeline import make_pipeline\n",
        "\n",
        "from sklearn.model_selection import train_test_split\n",
        "\n",
        "from sklearn.ensemble import RandomForestClassifier\n",
        "from sklearn.linear_model import LogisticRegression\n",
        "\n",
        "from sklearn.metrics import precision_score, recall_score, accuracy_score, f1_score, r2_score\n",
        "\n",
        "from sklearn.metrics import roc_curve, auc\n",
        "\n",
        "from sklearn.metrics import confusion_matrix\n",
        "from tensorflow.keras import layers"
      ]
    },
    {
      "cell_type": "code",
      "source": [
        "from google.colab import drive\n",
        "drive.mount('/content/drive')"
      ],
      "metadata": {
        "colab": {
          "base_uri": "https://localhost:8080/"
        },
        "id": "xTImALz7UFC7",
        "outputId": "bafd93d8-6609-4bdb-86c3-479c5fb6b4a3"
      },
      "execution_count": null,
      "outputs": [
        {
          "output_type": "stream",
          "name": "stdout",
          "text": [
            "Drive already mounted at /content/drive; to attempt to forcibly remount, call drive.mount(\"/content/drive\", force_remount=True).\n"
          ]
        }
      ]
    },
    {
      "cell_type": "code",
      "source": [
        "#importing dataset\n",
        "df = pd.read_csv('/content/drive/MyDrive/Schizophrenia/data.csv')"
      ],
      "metadata": {
        "id": "1KGcnV7vP7SX"
      },
      "execution_count": null,
      "outputs": []
    },
    {
      "cell_type": "code",
      "source": [
        "df.head()"
      ],
      "metadata": {
        "colab": {
          "base_uri": "https://localhost:8080/",
          "height": 602
        },
        "id": "sdCdFAMFP-3E",
        "outputId": "b2a7a423-7e77-4e83-e2d4-c69bb70f7a3f"
      },
      "execution_count": null,
      "outputs": [
        {
          "output_type": "execute_result",
          "data": {
            "text/plain": [
              "         subreddit             author        date  \\\n",
              "0    schizophrenia     SchizophrenicB  2019/08/29   \n",
              "1    schizophrenia         edwardmuch  2019/01/09   \n",
              "2    schizophrenia  Wish_I_Could_Swim  2020/04/03   \n",
              "3  personalfinance           MoneyJ2k  2020/04/12   \n",
              "4    schizophrenia          yaniraaaa  2020/03/06   \n",
              "\n",
              "                                                post  schiz_indicator  \\\n",
              "0  Just formally diagnosed about two weeks ago, b...                1   \n",
              "1  Too frightened to change my medication!!! I ta...                1   \n",
              "2  I don't know how to get honest answers out of ...                1   \n",
              "3  Is there ever a good reason to consistently ea...                0   \n",
              "4  Psychotic episodes? I have schizophrenia so I’...                1   \n",
              "\n",
              "   automated_readability_index  coleman_liau_index  \\\n",
              "0                     6.122667            8.943189   \n",
              "1                     3.590595            6.438486   \n",
              "2                     7.968520            5.759995   \n",
              "3                     3.766234            5.156070   \n",
              "4                     6.478182            9.483280   \n",
              "\n",
              "   flesch_kincaid_grade_level  flesch_reading_ease  gulpease_index  ...  \\\n",
              "0                    6.366389            69.456250       69.111111  ...   \n",
              "1                    4.485714            79.525952       77.928571  ...   \n",
              "2                    7.679564            79.386192       63.623116  ...   \n",
              "3                    5.407358            79.870778       72.220676  ...   \n",
              "4                    6.578788            67.488182       68.696970  ...   \n",
              "\n",
              "   tfidf_wish  tfidf_without  tfidf_wonder  tfidf_work  tfidf_worri  \\\n",
              "0         0.0            0.0           0.0    0.000000      0.00000   \n",
              "1         0.0            0.0           0.0    0.000000      0.00000   \n",
              "2         0.0            0.0           0.0    0.000000      0.25973   \n",
              "3         0.0            0.0           0.0    0.035204      0.00000   \n",
              "4         0.0            0.0           0.0    0.000000      0.00000   \n",
              "\n",
              "   tfidf_wors  tfidf_would  tfidf_wrong  tfidf_x200b  tfidf_year  \n",
              "0         0.0          0.0          0.0          0.0    0.000000  \n",
              "1         0.0          0.0          0.0          0.0    0.000000  \n",
              "2         0.0          0.0          0.0          0.0    0.082348  \n",
              "3         0.0          0.0          0.0          0.0    0.093420  \n",
              "4         0.0          0.0          0.0          0.0    0.000000  \n",
              "\n",
              "[5 rows x 351 columns]"
            ],
            "text/html": [
              "\n",
              "  <div id=\"df-59c10a60-293c-4375-b7ae-56b3b5dbe1da\" class=\"colab-df-container\">\n",
              "    <div>\n",
              "<style scoped>\n",
              "    .dataframe tbody tr th:only-of-type {\n",
              "        vertical-align: middle;\n",
              "    }\n",
              "\n",
              "    .dataframe tbody tr th {\n",
              "        vertical-align: top;\n",
              "    }\n",
              "\n",
              "    .dataframe thead th {\n",
              "        text-align: right;\n",
              "    }\n",
              "</style>\n",
              "<table border=\"1\" class=\"dataframe\">\n",
              "  <thead>\n",
              "    <tr style=\"text-align: right;\">\n",
              "      <th></th>\n",
              "      <th>subreddit</th>\n",
              "      <th>author</th>\n",
              "      <th>date</th>\n",
              "      <th>post</th>\n",
              "      <th>schiz_indicator</th>\n",
              "      <th>automated_readability_index</th>\n",
              "      <th>coleman_liau_index</th>\n",
              "      <th>flesch_kincaid_grade_level</th>\n",
              "      <th>flesch_reading_ease</th>\n",
              "      <th>gulpease_index</th>\n",
              "      <th>...</th>\n",
              "      <th>tfidf_wish</th>\n",
              "      <th>tfidf_without</th>\n",
              "      <th>tfidf_wonder</th>\n",
              "      <th>tfidf_work</th>\n",
              "      <th>tfidf_worri</th>\n",
              "      <th>tfidf_wors</th>\n",
              "      <th>tfidf_would</th>\n",
              "      <th>tfidf_wrong</th>\n",
              "      <th>tfidf_x200b</th>\n",
              "      <th>tfidf_year</th>\n",
              "    </tr>\n",
              "  </thead>\n",
              "  <tbody>\n",
              "    <tr>\n",
              "      <th>0</th>\n",
              "      <td>schizophrenia</td>\n",
              "      <td>SchizophrenicB</td>\n",
              "      <td>2019/08/29</td>\n",
              "      <td>Just formally diagnosed about two weeks ago, b...</td>\n",
              "      <td>1</td>\n",
              "      <td>6.122667</td>\n",
              "      <td>8.943189</td>\n",
              "      <td>6.366389</td>\n",
              "      <td>69.456250</td>\n",
              "      <td>69.111111</td>\n",
              "      <td>...</td>\n",
              "      <td>0.0</td>\n",
              "      <td>0.0</td>\n",
              "      <td>0.0</td>\n",
              "      <td>0.000000</td>\n",
              "      <td>0.00000</td>\n",
              "      <td>0.0</td>\n",
              "      <td>0.0</td>\n",
              "      <td>0.0</td>\n",
              "      <td>0.0</td>\n",
              "      <td>0.000000</td>\n",
              "    </tr>\n",
              "    <tr>\n",
              "      <th>1</th>\n",
              "      <td>schizophrenia</td>\n",
              "      <td>edwardmuch</td>\n",
              "      <td>2019/01/09</td>\n",
              "      <td>Too frightened to change my medication!!! I ta...</td>\n",
              "      <td>1</td>\n",
              "      <td>3.590595</td>\n",
              "      <td>6.438486</td>\n",
              "      <td>4.485714</td>\n",
              "      <td>79.525952</td>\n",
              "      <td>77.928571</td>\n",
              "      <td>...</td>\n",
              "      <td>0.0</td>\n",
              "      <td>0.0</td>\n",
              "      <td>0.0</td>\n",
              "      <td>0.000000</td>\n",
              "      <td>0.00000</td>\n",
              "      <td>0.0</td>\n",
              "      <td>0.0</td>\n",
              "      <td>0.0</td>\n",
              "      <td>0.0</td>\n",
              "      <td>0.000000</td>\n",
              "    </tr>\n",
              "    <tr>\n",
              "      <th>2</th>\n",
              "      <td>schizophrenia</td>\n",
              "      <td>Wish_I_Could_Swim</td>\n",
              "      <td>2020/04/03</td>\n",
              "      <td>I don't know how to get honest answers out of ...</td>\n",
              "      <td>1</td>\n",
              "      <td>7.968520</td>\n",
              "      <td>5.759995</td>\n",
              "      <td>7.679564</td>\n",
              "      <td>79.386192</td>\n",
              "      <td>63.623116</td>\n",
              "      <td>...</td>\n",
              "      <td>0.0</td>\n",
              "      <td>0.0</td>\n",
              "      <td>0.0</td>\n",
              "      <td>0.000000</td>\n",
              "      <td>0.25973</td>\n",
              "      <td>0.0</td>\n",
              "      <td>0.0</td>\n",
              "      <td>0.0</td>\n",
              "      <td>0.0</td>\n",
              "      <td>0.082348</td>\n",
              "    </tr>\n",
              "    <tr>\n",
              "      <th>3</th>\n",
              "      <td>personalfinance</td>\n",
              "      <td>MoneyJ2k</td>\n",
              "      <td>2020/04/12</td>\n",
              "      <td>Is there ever a good reason to consistently ea...</td>\n",
              "      <td>0</td>\n",
              "      <td>3.766234</td>\n",
              "      <td>5.156070</td>\n",
              "      <td>5.407358</td>\n",
              "      <td>79.870778</td>\n",
              "      <td>72.220676</td>\n",
              "      <td>...</td>\n",
              "      <td>0.0</td>\n",
              "      <td>0.0</td>\n",
              "      <td>0.0</td>\n",
              "      <td>0.035204</td>\n",
              "      <td>0.00000</td>\n",
              "      <td>0.0</td>\n",
              "      <td>0.0</td>\n",
              "      <td>0.0</td>\n",
              "      <td>0.0</td>\n",
              "      <td>0.093420</td>\n",
              "    </tr>\n",
              "    <tr>\n",
              "      <th>4</th>\n",
              "      <td>schizophrenia</td>\n",
              "      <td>yaniraaaa</td>\n",
              "      <td>2020/03/06</td>\n",
              "      <td>Psychotic episodes? I have schizophrenia so I’...</td>\n",
              "      <td>1</td>\n",
              "      <td>6.478182</td>\n",
              "      <td>9.483280</td>\n",
              "      <td>6.578788</td>\n",
              "      <td>67.488182</td>\n",
              "      <td>68.696970</td>\n",
              "      <td>...</td>\n",
              "      <td>0.0</td>\n",
              "      <td>0.0</td>\n",
              "      <td>0.0</td>\n",
              "      <td>0.000000</td>\n",
              "      <td>0.00000</td>\n",
              "      <td>0.0</td>\n",
              "      <td>0.0</td>\n",
              "      <td>0.0</td>\n",
              "      <td>0.0</td>\n",
              "      <td>0.000000</td>\n",
              "    </tr>\n",
              "  </tbody>\n",
              "</table>\n",
              "<p>5 rows × 351 columns</p>\n",
              "</div>\n",
              "    <div class=\"colab-df-buttons\">\n",
              "\n",
              "  <div class=\"colab-df-container\">\n",
              "    <button class=\"colab-df-convert\" onclick=\"convertToInteractive('df-59c10a60-293c-4375-b7ae-56b3b5dbe1da')\"\n",
              "            title=\"Convert this dataframe to an interactive table.\"\n",
              "            style=\"display:none;\">\n",
              "\n",
              "  <svg xmlns=\"http://www.w3.org/2000/svg\" height=\"24px\" viewBox=\"0 -960 960 960\">\n",
              "    <path d=\"M120-120v-720h720v720H120Zm60-500h600v-160H180v160Zm220 220h160v-160H400v160Zm0 220h160v-160H400v160ZM180-400h160v-160H180v160Zm440 0h160v-160H620v160ZM180-180h160v-160H180v160Zm440 0h160v-160H620v160Z\"/>\n",
              "  </svg>\n",
              "    </button>\n",
              "\n",
              "  <style>\n",
              "    .colab-df-container {\n",
              "      display:flex;\n",
              "      gap: 12px;\n",
              "    }\n",
              "\n",
              "    .colab-df-convert {\n",
              "      background-color: #E8F0FE;\n",
              "      border: none;\n",
              "      border-radius: 50%;\n",
              "      cursor: pointer;\n",
              "      display: none;\n",
              "      fill: #1967D2;\n",
              "      height: 32px;\n",
              "      padding: 0 0 0 0;\n",
              "      width: 32px;\n",
              "    }\n",
              "\n",
              "    .colab-df-convert:hover {\n",
              "      background-color: #E2EBFA;\n",
              "      box-shadow: 0px 1px 2px rgba(60, 64, 67, 0.3), 0px 1px 3px 1px rgba(60, 64, 67, 0.15);\n",
              "      fill: #174EA6;\n",
              "    }\n",
              "\n",
              "    .colab-df-buttons div {\n",
              "      margin-bottom: 4px;\n",
              "    }\n",
              "\n",
              "    [theme=dark] .colab-df-convert {\n",
              "      background-color: #3B4455;\n",
              "      fill: #D2E3FC;\n",
              "    }\n",
              "\n",
              "    [theme=dark] .colab-df-convert:hover {\n",
              "      background-color: #434B5C;\n",
              "      box-shadow: 0px 1px 3px 1px rgba(0, 0, 0, 0.15);\n",
              "      filter: drop-shadow(0px 1px 2px rgba(0, 0, 0, 0.3));\n",
              "      fill: #FFFFFF;\n",
              "    }\n",
              "  </style>\n",
              "\n",
              "    <script>\n",
              "      const buttonEl =\n",
              "        document.querySelector('#df-59c10a60-293c-4375-b7ae-56b3b5dbe1da button.colab-df-convert');\n",
              "      buttonEl.style.display =\n",
              "        google.colab.kernel.accessAllowed ? 'block' : 'none';\n",
              "\n",
              "      async function convertToInteractive(key) {\n",
              "        const element = document.querySelector('#df-59c10a60-293c-4375-b7ae-56b3b5dbe1da');\n",
              "        const dataTable =\n",
              "          await google.colab.kernel.invokeFunction('convertToInteractive',\n",
              "                                                    [key], {});\n",
              "        if (!dataTable) return;\n",
              "\n",
              "        const docLinkHtml = 'Like what you see? Visit the ' +\n",
              "          '<a target=\"_blank\" href=https://colab.research.google.com/notebooks/data_table.ipynb>data table notebook</a>'\n",
              "          + ' to learn more about interactive tables.';\n",
              "        element.innerHTML = '';\n",
              "        dataTable['output_type'] = 'display_data';\n",
              "        await google.colab.output.renderOutput(dataTable, element);\n",
              "        const docLink = document.createElement('div');\n",
              "        docLink.innerHTML = docLinkHtml;\n",
              "        element.appendChild(docLink);\n",
              "      }\n",
              "    </script>\n",
              "  </div>\n",
              "\n",
              "\n",
              "<div id=\"df-d12d2275-d093-4ff0-9222-fe0dc399f8f3\">\n",
              "  <button class=\"colab-df-quickchart\" onclick=\"quickchart('df-d12d2275-d093-4ff0-9222-fe0dc399f8f3')\"\n",
              "            title=\"Suggest charts\"\n",
              "            style=\"display:none;\">\n",
              "\n",
              "<svg xmlns=\"http://www.w3.org/2000/svg\" height=\"24px\"viewBox=\"0 0 24 24\"\n",
              "     width=\"24px\">\n",
              "    <g>\n",
              "        <path d=\"M19 3H5c-1.1 0-2 .9-2 2v14c0 1.1.9 2 2 2h14c1.1 0 2-.9 2-2V5c0-1.1-.9-2-2-2zM9 17H7v-7h2v7zm4 0h-2V7h2v10zm4 0h-2v-4h2v4z\"/>\n",
              "    </g>\n",
              "</svg>\n",
              "  </button>\n",
              "\n",
              "<style>\n",
              "  .colab-df-quickchart {\n",
              "      --bg-color: #E8F0FE;\n",
              "      --fill-color: #1967D2;\n",
              "      --hover-bg-color: #E2EBFA;\n",
              "      --hover-fill-color: #174EA6;\n",
              "      --disabled-fill-color: #AAA;\n",
              "      --disabled-bg-color: #DDD;\n",
              "  }\n",
              "\n",
              "  [theme=dark] .colab-df-quickchart {\n",
              "      --bg-color: #3B4455;\n",
              "      --fill-color: #D2E3FC;\n",
              "      --hover-bg-color: #434B5C;\n",
              "      --hover-fill-color: #FFFFFF;\n",
              "      --disabled-bg-color: #3B4455;\n",
              "      --disabled-fill-color: #666;\n",
              "  }\n",
              "\n",
              "  .colab-df-quickchart {\n",
              "    background-color: var(--bg-color);\n",
              "    border: none;\n",
              "    border-radius: 50%;\n",
              "    cursor: pointer;\n",
              "    display: none;\n",
              "    fill: var(--fill-color);\n",
              "    height: 32px;\n",
              "    padding: 0;\n",
              "    width: 32px;\n",
              "  }\n",
              "\n",
              "  .colab-df-quickchart:hover {\n",
              "    background-color: var(--hover-bg-color);\n",
              "    box-shadow: 0 1px 2px rgba(60, 64, 67, 0.3), 0 1px 3px 1px rgba(60, 64, 67, 0.15);\n",
              "    fill: var(--button-hover-fill-color);\n",
              "  }\n",
              "\n",
              "  .colab-df-quickchart-complete:disabled,\n",
              "  .colab-df-quickchart-complete:disabled:hover {\n",
              "    background-color: var(--disabled-bg-color);\n",
              "    fill: var(--disabled-fill-color);\n",
              "    box-shadow: none;\n",
              "  }\n",
              "\n",
              "  .colab-df-spinner {\n",
              "    border: 2px solid var(--fill-color);\n",
              "    border-color: transparent;\n",
              "    border-bottom-color: var(--fill-color);\n",
              "    animation:\n",
              "      spin 1s steps(1) infinite;\n",
              "  }\n",
              "\n",
              "  @keyframes spin {\n",
              "    0% {\n",
              "      border-color: transparent;\n",
              "      border-bottom-color: var(--fill-color);\n",
              "      border-left-color: var(--fill-color);\n",
              "    }\n",
              "    20% {\n",
              "      border-color: transparent;\n",
              "      border-left-color: var(--fill-color);\n",
              "      border-top-color: var(--fill-color);\n",
              "    }\n",
              "    30% {\n",
              "      border-color: transparent;\n",
              "      border-left-color: var(--fill-color);\n",
              "      border-top-color: var(--fill-color);\n",
              "      border-right-color: var(--fill-color);\n",
              "    }\n",
              "    40% {\n",
              "      border-color: transparent;\n",
              "      border-right-color: var(--fill-color);\n",
              "      border-top-color: var(--fill-color);\n",
              "    }\n",
              "    60% {\n",
              "      border-color: transparent;\n",
              "      border-right-color: var(--fill-color);\n",
              "    }\n",
              "    80% {\n",
              "      border-color: transparent;\n",
              "      border-right-color: var(--fill-color);\n",
              "      border-bottom-color: var(--fill-color);\n",
              "    }\n",
              "    90% {\n",
              "      border-color: transparent;\n",
              "      border-bottom-color: var(--fill-color);\n",
              "    }\n",
              "  }\n",
              "</style>\n",
              "\n",
              "  <script>\n",
              "    async function quickchart(key) {\n",
              "      const quickchartButtonEl =\n",
              "        document.querySelector('#' + key + ' button');\n",
              "      quickchartButtonEl.disabled = true;  // To prevent multiple clicks.\n",
              "      quickchartButtonEl.classList.add('colab-df-spinner');\n",
              "      try {\n",
              "        const charts = await google.colab.kernel.invokeFunction(\n",
              "            'suggestCharts', [key], {});\n",
              "      } catch (error) {\n",
              "        console.error('Error during call to suggestCharts:', error);\n",
              "      }\n",
              "      quickchartButtonEl.classList.remove('colab-df-spinner');\n",
              "      quickchartButtonEl.classList.add('colab-df-quickchart-complete');\n",
              "    }\n",
              "    (() => {\n",
              "      let quickchartButtonEl =\n",
              "        document.querySelector('#df-d12d2275-d093-4ff0-9222-fe0dc399f8f3 button');\n",
              "      quickchartButtonEl.style.display =\n",
              "        google.colab.kernel.accessAllowed ? 'block' : 'none';\n",
              "    })();\n",
              "  </script>\n",
              "</div>\n",
              "\n",
              "    </div>\n",
              "  </div>\n"
            ],
            "application/vnd.google.colaboratory.intrinsic+json": {
              "type": "dataframe",
              "variable_name": "df"
            }
          },
          "metadata": {},
          "execution_count": 141
        }
      ]
    },
    {
      "cell_type": "code",
      "source": [
        "df.shape"
      ],
      "metadata": {
        "colab": {
          "base_uri": "https://localhost:8080/"
        },
        "id": "UEkSY2MlQBZR",
        "outputId": "b831dbcd-81ab-4b7e-af51-2e1d8af897f2"
      },
      "execution_count": null,
      "outputs": [
        {
          "output_type": "execute_result",
          "data": {
            "text/plain": [
              "(17423, 351)"
            ]
          },
          "metadata": {},
          "execution_count": 142
        }
      ]
    },
    {
      "cell_type": "code",
      "source": [
        "#features to be used\n",
        "col = ['post', 'n_long_words', 'n_monosyllable_words', 'n_polysyllable_words', 'n_syllables', 'schiz_indicator']\n",
        "\n",
        "data = df[col]"
      ],
      "metadata": {
        "id": "mduoaROYQNhX"
      },
      "execution_count": null,
      "outputs": []
    },
    {
      "cell_type": "code",
      "source": [
        "data['post'].iloc[1::20]"
      ],
      "metadata": {
        "colab": {
          "base_uri": "https://localhost:8080/"
        },
        "id": "079maGK4QP7h",
        "outputId": "9c73095d-c28f-4e18-f3b0-629cf9715c98"
      },
      "execution_count": null,
      "outputs": [
        {
          "output_type": "execute_result",
          "data": {
            "text/plain": [
              "1        Too frightened to change my medication!!! I ta...\n",
              "21       Thoughts on \"gangstalking\" and the r/gangstalk...\n",
              "41       Does it ever feel like you life is just over f...\n",
              "61       Asking for a favour I just wanna start off by ...\n",
              "81       Is there anyway of maybe finding schizophrenic...\n",
              "                               ...                        \n",
              "17341    Online Schizophrenia Support Group This is a n...\n",
              "17361    What's your opinion of April Fool's Day? Love ...\n",
              "17381    Voices Inside My Head Won't Leave I’ve tried m...\n",
              "17401    My parents want power of attorney over me I do...\n",
              "17421    Disorganized thinking and seizures Hello,\\n\\nI...\n",
              "Name: post, Length: 872, dtype: object"
            ]
          },
          "metadata": {},
          "execution_count": 144
        }
      ]
    },
    {
      "cell_type": "code",
      "source": [
        "data['post'] = data['post'].str.replace('â€™', '\\'').str.lower()"
      ],
      "metadata": {
        "colab": {
          "base_uri": "https://localhost:8080/"
        },
        "id": "g6_4lkZzQR1x",
        "outputId": "1c04363f-c126-4faf-adb6-a9589bff448f"
      },
      "execution_count": null,
      "outputs": [
        {
          "output_type": "stream",
          "name": "stderr",
          "text": [
            "<ipython-input-145-4a25b218fb0f>:1: SettingWithCopyWarning: \n",
            "A value is trying to be set on a copy of a slice from a DataFrame.\n",
            "Try using .loc[row_indexer,col_indexer] = value instead\n",
            "\n",
            "See the caveats in the documentation: https://pandas.pydata.org/pandas-docs/stable/user_guide/indexing.html#returning-a-view-versus-a-copy\n",
            "  data['post'] = data['post'].str.replace('â€™', '\\'').str.lower()\n"
          ]
        }
      ]
    },
    {
      "cell_type": "code",
      "source": [
        "data.shape"
      ],
      "metadata": {
        "colab": {
          "base_uri": "https://localhost:8080/"
        },
        "id": "kHZ1r9zeQVwQ",
        "outputId": "29463df1-12cb-49ca-b369-a870c0182fdd"
      },
      "execution_count": null,
      "outputs": [
        {
          "output_type": "execute_result",
          "data": {
            "text/plain": [
              "(17423, 6)"
            ]
          },
          "metadata": {},
          "execution_count": 146
        }
      ]
    },
    {
      "cell_type": "code",
      "source": [
        "data.head()"
      ],
      "metadata": {
        "colab": {
          "base_uri": "https://localhost:8080/",
          "height": 206
        },
        "id": "HZaZjxoHQUgb",
        "outputId": "34a816cb-784e-4221-9956-17eff29f932a"
      },
      "execution_count": null,
      "outputs": [
        {
          "output_type": "execute_result",
          "data": {
            "text/plain": [
              "                                                post  n_long_words  \\\n",
              "0  just formally diagnosed about two weeks ago, b...            20   \n",
              "1  too frightened to change my medication!!! i ta...             5   \n",
              "2  i don't know how to get honest answers out of ...            27   \n",
              "3  is there ever a good reason to consistently ea...            73   \n",
              "4  psychotic episodes? i have schizophrenia so i’...            18   \n",
              "\n",
              "   n_monosyllable_words  n_polysyllable_words  n_syllables  schiz_indicator  \n",
              "0                    67                    13          134                1  \n",
              "1                    22                     3           39                1  \n",
              "2                   163                    11          247                1  \n",
              "3                   382                    35          675                0  \n",
              "4                    44                     7          100                1  "
            ],
            "text/html": [
              "\n",
              "  <div id=\"df-053654b3-3ee2-4233-865c-131f28976969\" class=\"colab-df-container\">\n",
              "    <div>\n",
              "<style scoped>\n",
              "    .dataframe tbody tr th:only-of-type {\n",
              "        vertical-align: middle;\n",
              "    }\n",
              "\n",
              "    .dataframe tbody tr th {\n",
              "        vertical-align: top;\n",
              "    }\n",
              "\n",
              "    .dataframe thead th {\n",
              "        text-align: right;\n",
              "    }\n",
              "</style>\n",
              "<table border=\"1\" class=\"dataframe\">\n",
              "  <thead>\n",
              "    <tr style=\"text-align: right;\">\n",
              "      <th></th>\n",
              "      <th>post</th>\n",
              "      <th>n_long_words</th>\n",
              "      <th>n_monosyllable_words</th>\n",
              "      <th>n_polysyllable_words</th>\n",
              "      <th>n_syllables</th>\n",
              "      <th>schiz_indicator</th>\n",
              "    </tr>\n",
              "  </thead>\n",
              "  <tbody>\n",
              "    <tr>\n",
              "      <th>0</th>\n",
              "      <td>just formally diagnosed about two weeks ago, b...</td>\n",
              "      <td>20</td>\n",
              "      <td>67</td>\n",
              "      <td>13</td>\n",
              "      <td>134</td>\n",
              "      <td>1</td>\n",
              "    </tr>\n",
              "    <tr>\n",
              "      <th>1</th>\n",
              "      <td>too frightened to change my medication!!! i ta...</td>\n",
              "      <td>5</td>\n",
              "      <td>22</td>\n",
              "      <td>3</td>\n",
              "      <td>39</td>\n",
              "      <td>1</td>\n",
              "    </tr>\n",
              "    <tr>\n",
              "      <th>2</th>\n",
              "      <td>i don't know how to get honest answers out of ...</td>\n",
              "      <td>27</td>\n",
              "      <td>163</td>\n",
              "      <td>11</td>\n",
              "      <td>247</td>\n",
              "      <td>1</td>\n",
              "    </tr>\n",
              "    <tr>\n",
              "      <th>3</th>\n",
              "      <td>is there ever a good reason to consistently ea...</td>\n",
              "      <td>73</td>\n",
              "      <td>382</td>\n",
              "      <td>35</td>\n",
              "      <td>675</td>\n",
              "      <td>0</td>\n",
              "    </tr>\n",
              "    <tr>\n",
              "      <th>4</th>\n",
              "      <td>psychotic episodes? i have schizophrenia so i’...</td>\n",
              "      <td>18</td>\n",
              "      <td>44</td>\n",
              "      <td>7</td>\n",
              "      <td>100</td>\n",
              "      <td>1</td>\n",
              "    </tr>\n",
              "  </tbody>\n",
              "</table>\n",
              "</div>\n",
              "    <div class=\"colab-df-buttons\">\n",
              "\n",
              "  <div class=\"colab-df-container\">\n",
              "    <button class=\"colab-df-convert\" onclick=\"convertToInteractive('df-053654b3-3ee2-4233-865c-131f28976969')\"\n",
              "            title=\"Convert this dataframe to an interactive table.\"\n",
              "            style=\"display:none;\">\n",
              "\n",
              "  <svg xmlns=\"http://www.w3.org/2000/svg\" height=\"24px\" viewBox=\"0 -960 960 960\">\n",
              "    <path d=\"M120-120v-720h720v720H120Zm60-500h600v-160H180v160Zm220 220h160v-160H400v160Zm0 220h160v-160H400v160ZM180-400h160v-160H180v160Zm440 0h160v-160H620v160ZM180-180h160v-160H180v160Zm440 0h160v-160H620v160Z\"/>\n",
              "  </svg>\n",
              "    </button>\n",
              "\n",
              "  <style>\n",
              "    .colab-df-container {\n",
              "      display:flex;\n",
              "      gap: 12px;\n",
              "    }\n",
              "\n",
              "    .colab-df-convert {\n",
              "      background-color: #E8F0FE;\n",
              "      border: none;\n",
              "      border-radius: 50%;\n",
              "      cursor: pointer;\n",
              "      display: none;\n",
              "      fill: #1967D2;\n",
              "      height: 32px;\n",
              "      padding: 0 0 0 0;\n",
              "      width: 32px;\n",
              "    }\n",
              "\n",
              "    .colab-df-convert:hover {\n",
              "      background-color: #E2EBFA;\n",
              "      box-shadow: 0px 1px 2px rgba(60, 64, 67, 0.3), 0px 1px 3px 1px rgba(60, 64, 67, 0.15);\n",
              "      fill: #174EA6;\n",
              "    }\n",
              "\n",
              "    .colab-df-buttons div {\n",
              "      margin-bottom: 4px;\n",
              "    }\n",
              "\n",
              "    [theme=dark] .colab-df-convert {\n",
              "      background-color: #3B4455;\n",
              "      fill: #D2E3FC;\n",
              "    }\n",
              "\n",
              "    [theme=dark] .colab-df-convert:hover {\n",
              "      background-color: #434B5C;\n",
              "      box-shadow: 0px 1px 3px 1px rgba(0, 0, 0, 0.15);\n",
              "      filter: drop-shadow(0px 1px 2px rgba(0, 0, 0, 0.3));\n",
              "      fill: #FFFFFF;\n",
              "    }\n",
              "  </style>\n",
              "\n",
              "    <script>\n",
              "      const buttonEl =\n",
              "        document.querySelector('#df-053654b3-3ee2-4233-865c-131f28976969 button.colab-df-convert');\n",
              "      buttonEl.style.display =\n",
              "        google.colab.kernel.accessAllowed ? 'block' : 'none';\n",
              "\n",
              "      async function convertToInteractive(key) {\n",
              "        const element = document.querySelector('#df-053654b3-3ee2-4233-865c-131f28976969');\n",
              "        const dataTable =\n",
              "          await google.colab.kernel.invokeFunction('convertToInteractive',\n",
              "                                                    [key], {});\n",
              "        if (!dataTable) return;\n",
              "\n",
              "        const docLinkHtml = 'Like what you see? Visit the ' +\n",
              "          '<a target=\"_blank\" href=https://colab.research.google.com/notebooks/data_table.ipynb>data table notebook</a>'\n",
              "          + ' to learn more about interactive tables.';\n",
              "        element.innerHTML = '';\n",
              "        dataTable['output_type'] = 'display_data';\n",
              "        await google.colab.output.renderOutput(dataTable, element);\n",
              "        const docLink = document.createElement('div');\n",
              "        docLink.innerHTML = docLinkHtml;\n",
              "        element.appendChild(docLink);\n",
              "      }\n",
              "    </script>\n",
              "  </div>\n",
              "\n",
              "\n",
              "<div id=\"df-a57daf17-c755-4e5e-9490-c3fa027d2729\">\n",
              "  <button class=\"colab-df-quickchart\" onclick=\"quickchart('df-a57daf17-c755-4e5e-9490-c3fa027d2729')\"\n",
              "            title=\"Suggest charts\"\n",
              "            style=\"display:none;\">\n",
              "\n",
              "<svg xmlns=\"http://www.w3.org/2000/svg\" height=\"24px\"viewBox=\"0 0 24 24\"\n",
              "     width=\"24px\">\n",
              "    <g>\n",
              "        <path d=\"M19 3H5c-1.1 0-2 .9-2 2v14c0 1.1.9 2 2 2h14c1.1 0 2-.9 2-2V5c0-1.1-.9-2-2-2zM9 17H7v-7h2v7zm4 0h-2V7h2v10zm4 0h-2v-4h2v4z\"/>\n",
              "    </g>\n",
              "</svg>\n",
              "  </button>\n",
              "\n",
              "<style>\n",
              "  .colab-df-quickchart {\n",
              "      --bg-color: #E8F0FE;\n",
              "      --fill-color: #1967D2;\n",
              "      --hover-bg-color: #E2EBFA;\n",
              "      --hover-fill-color: #174EA6;\n",
              "      --disabled-fill-color: #AAA;\n",
              "      --disabled-bg-color: #DDD;\n",
              "  }\n",
              "\n",
              "  [theme=dark] .colab-df-quickchart {\n",
              "      --bg-color: #3B4455;\n",
              "      --fill-color: #D2E3FC;\n",
              "      --hover-bg-color: #434B5C;\n",
              "      --hover-fill-color: #FFFFFF;\n",
              "      --disabled-bg-color: #3B4455;\n",
              "      --disabled-fill-color: #666;\n",
              "  }\n",
              "\n",
              "  .colab-df-quickchart {\n",
              "    background-color: var(--bg-color);\n",
              "    border: none;\n",
              "    border-radius: 50%;\n",
              "    cursor: pointer;\n",
              "    display: none;\n",
              "    fill: var(--fill-color);\n",
              "    height: 32px;\n",
              "    padding: 0;\n",
              "    width: 32px;\n",
              "  }\n",
              "\n",
              "  .colab-df-quickchart:hover {\n",
              "    background-color: var(--hover-bg-color);\n",
              "    box-shadow: 0 1px 2px rgba(60, 64, 67, 0.3), 0 1px 3px 1px rgba(60, 64, 67, 0.15);\n",
              "    fill: var(--button-hover-fill-color);\n",
              "  }\n",
              "\n",
              "  .colab-df-quickchart-complete:disabled,\n",
              "  .colab-df-quickchart-complete:disabled:hover {\n",
              "    background-color: var(--disabled-bg-color);\n",
              "    fill: var(--disabled-fill-color);\n",
              "    box-shadow: none;\n",
              "  }\n",
              "\n",
              "  .colab-df-spinner {\n",
              "    border: 2px solid var(--fill-color);\n",
              "    border-color: transparent;\n",
              "    border-bottom-color: var(--fill-color);\n",
              "    animation:\n",
              "      spin 1s steps(1) infinite;\n",
              "  }\n",
              "\n",
              "  @keyframes spin {\n",
              "    0% {\n",
              "      border-color: transparent;\n",
              "      border-bottom-color: var(--fill-color);\n",
              "      border-left-color: var(--fill-color);\n",
              "    }\n",
              "    20% {\n",
              "      border-color: transparent;\n",
              "      border-left-color: var(--fill-color);\n",
              "      border-top-color: var(--fill-color);\n",
              "    }\n",
              "    30% {\n",
              "      border-color: transparent;\n",
              "      border-left-color: var(--fill-color);\n",
              "      border-top-color: var(--fill-color);\n",
              "      border-right-color: var(--fill-color);\n",
              "    }\n",
              "    40% {\n",
              "      border-color: transparent;\n",
              "      border-right-color: var(--fill-color);\n",
              "      border-top-color: var(--fill-color);\n",
              "    }\n",
              "    60% {\n",
              "      border-color: transparent;\n",
              "      border-right-color: var(--fill-color);\n",
              "    }\n",
              "    80% {\n",
              "      border-color: transparent;\n",
              "      border-right-color: var(--fill-color);\n",
              "      border-bottom-color: var(--fill-color);\n",
              "    }\n",
              "    90% {\n",
              "      border-color: transparent;\n",
              "      border-bottom-color: var(--fill-color);\n",
              "    }\n",
              "  }\n",
              "</style>\n",
              "\n",
              "  <script>\n",
              "    async function quickchart(key) {\n",
              "      const quickchartButtonEl =\n",
              "        document.querySelector('#' + key + ' button');\n",
              "      quickchartButtonEl.disabled = true;  // To prevent multiple clicks.\n",
              "      quickchartButtonEl.classList.add('colab-df-spinner');\n",
              "      try {\n",
              "        const charts = await google.colab.kernel.invokeFunction(\n",
              "            'suggestCharts', [key], {});\n",
              "      } catch (error) {\n",
              "        console.error('Error during call to suggestCharts:', error);\n",
              "      }\n",
              "      quickchartButtonEl.classList.remove('colab-df-spinner');\n",
              "      quickchartButtonEl.classList.add('colab-df-quickchart-complete');\n",
              "    }\n",
              "    (() => {\n",
              "      let quickchartButtonEl =\n",
              "        document.querySelector('#df-a57daf17-c755-4e5e-9490-c3fa027d2729 button');\n",
              "      quickchartButtonEl.style.display =\n",
              "        google.colab.kernel.accessAllowed ? 'block' : 'none';\n",
              "    })();\n",
              "  </script>\n",
              "</div>\n",
              "\n",
              "    </div>\n",
              "  </div>\n"
            ],
            "application/vnd.google.colaboratory.intrinsic+json": {
              "type": "dataframe",
              "variable_name": "data",
              "summary": "{\n  \"name\": \"data\",\n  \"rows\": 17423,\n  \"fields\": [\n    {\n      \"column\": \"post\",\n      \"properties\": {\n        \"dtype\": \"string\",\n        \"num_unique_values\": 16269,\n        \"samples\": [\n          \"hey guys what are your thoughts on resistance bands and could anyone give me some advantages to why you would get one especially with everything going on right now \\nthanks!\",\n          \"power of now -- any alternatives that touch on the same principles? more like, modern examples, think (mark manson.. etc.) \\n\\nnot sure if i'm the only one, but i can't seem to break through this book.  it might be the jargon, using \\\"pain-body\\\" every 5 seconds.. (in my opinion).\\n\\ni'm not trashing the book.  but has any other author touched on the same principles in a different writing style?\",\n          \"need help so my husband has been having episodes in the past several years. in the past six months has been extremely difficult. we have been married for four years and the first two years was fine and then he all of a sudden started having these extreme weird issues and with in the past year he\\u2019s been hearing voices mainly a female voice but now it\\u2019s starting to become multiple voices.  with in the past couple months it seems like it\\u2019s been at least once a month he\\u2019s been fine and perfectly normal and then all of a sudden he\\u2019s freaking out and the voices start to talk more. after managing to get him to the doctor he\\u2019s been diagnosed with borderline personality disorder possible schizophrenia. i love him so much i would not want to leave him but it it\\u2019s so hard not to just leave. i don\\u2019t know what to do when he\\u2019s in these manic episodes, most of the time i just try not to get angry with them or to lash back at him i try to agree with him. i\\u2019m more less looking for advice of what to do when he\\u2019s on his episode.  \"\n        ],\n        \"semantic_type\": \"\",\n        \"description\": \"\"\n      }\n    },\n    {\n      \"column\": \"n_long_words\",\n      \"properties\": {\n        \"dtype\": \"number\",\n        \"std\": 28,\n        \"min\": 0,\n        \"max\": 799,\n        \"num_unique_values\": 224,\n        \"samples\": [\n          52,\n          31,\n          96\n        ],\n        \"semantic_type\": \"\",\n        \"description\": \"\"\n      }\n    },\n    {\n      \"column\": \"n_monosyllable_words\",\n      \"properties\": {\n        \"dtype\": \"number\",\n        \"std\": 134,\n        \"min\": 1,\n        \"max\": 3151,\n        \"num_unique_values\": 715,\n        \"samples\": [\n          61,\n          362,\n          610\n        ],\n        \"semantic_type\": \"\",\n        \"description\": \"\"\n      }\n    },\n    {\n      \"column\": \"n_polysyllable_words\",\n      \"properties\": {\n        \"dtype\": \"number\",\n        \"std\": 14,\n        \"min\": 0,\n        \"max\": 462,\n        \"num_unique_values\": 126,\n        \"samples\": [\n          63,\n          20,\n          95\n        ],\n        \"semantic_type\": \"\",\n        \"description\": \"\"\n      }\n    },\n    {\n      \"column\": \"n_syllables\",\n      \"properties\": {\n        \"dtype\": \"number\",\n        \"std\": 229,\n        \"min\": 4,\n        \"max\": 6163,\n        \"num_unique_values\": 1050,\n        \"samples\": [\n          1831,\n          570,\n          550\n        ],\n        \"semantic_type\": \"\",\n        \"description\": \"\"\n      }\n    },\n    {\n      \"column\": \"schiz_indicator\",\n      \"properties\": {\n        \"dtype\": \"number\",\n        \"std\": 0,\n        \"min\": 0,\n        \"max\": 1,\n        \"num_unique_values\": 2,\n        \"samples\": [\n          0,\n          1\n        ],\n        \"semantic_type\": \"\",\n        \"description\": \"\"\n      }\n    }\n  ]\n}"
            }
          },
          "metadata": {},
          "execution_count": 147
        }
      ]
    },
    {
      "cell_type": "markdown",
      "source": [
        "# Splitting the data"
      ],
      "metadata": {
        "id": "c1IjU2WBVBRG"
      }
    },
    {
      "cell_type": "code",
      "source": [
        "X_data = data['post']\n",
        "Y_data = data['schiz_indicator']"
      ],
      "metadata": {
        "id": "LBZqQhPNVuol"
      },
      "execution_count": null,
      "outputs": []
    },
    {
      "cell_type": "code",
      "source": [
        "x_train, x_test, y_train, y_test = train_test_split(X_data, Y_data, test_size=0.3, random_state=42)"
      ],
      "metadata": {
        "id": "ptdq3UDpVFNL"
      },
      "execution_count": null,
      "outputs": []
    },
    {
      "cell_type": "code",
      "source": [
        "print('x_train: ', len(x_train))\n",
        "print('y_train: ', len(y_train))\n",
        "print('x_test: ', len(x_test))\n",
        "print('y_test: ', len(y_test))"
      ],
      "metadata": {
        "colab": {
          "base_uri": "https://localhost:8080/"
        },
        "id": "6JJ-j96kVFBh",
        "outputId": "cb00c8fa-2dcb-46ac-e7e9-df395ea7abb4"
      },
      "execution_count": null,
      "outputs": [
        {
          "output_type": "stream",
          "name": "stdout",
          "text": [
            "x_train:  12196\n",
            "y_train:  12196\n",
            "x_test:  5227\n",
            "y_test:  5227\n"
          ]
        }
      ]
    },
    {
      "cell_type": "markdown",
      "source": [
        "# NB classifier"
      ],
      "metadata": {
        "id": "ooKdcdThUao4"
      }
    },
    {
      "cell_type": "code",
      "source": [
        "model1 = make_pipeline(TfidfVectorizer(), MultinomialNB())\n",
        "model1.fit(x_train, y_train)"
      ],
      "metadata": {
        "colab": {
          "base_uri": "https://localhost:8080/",
          "height": 125
        },
        "id": "-130F34VTge4",
        "outputId": "30dabd5a-322e-402e-9713-97cbf44d5386"
      },
      "execution_count": null,
      "outputs": [
        {
          "output_type": "execute_result",
          "data": {
            "text/plain": [
              "Pipeline(steps=[('tfidfvectorizer', TfidfVectorizer()),\n",
              "                ('multinomialnb', MultinomialNB())])"
            ],
            "text/html": [
              "<style>#sk-container-id-7 {color: black;background-color: white;}#sk-container-id-7 pre{padding: 0;}#sk-container-id-7 div.sk-toggleable {background-color: white;}#sk-container-id-7 label.sk-toggleable__label {cursor: pointer;display: block;width: 100%;margin-bottom: 0;padding: 0.3em;box-sizing: border-box;text-align: center;}#sk-container-id-7 label.sk-toggleable__label-arrow:before {content: \"▸\";float: left;margin-right: 0.25em;color: #696969;}#sk-container-id-7 label.sk-toggleable__label-arrow:hover:before {color: black;}#sk-container-id-7 div.sk-estimator:hover label.sk-toggleable__label-arrow:before {color: black;}#sk-container-id-7 div.sk-toggleable__content {max-height: 0;max-width: 0;overflow: hidden;text-align: left;background-color: #f0f8ff;}#sk-container-id-7 div.sk-toggleable__content pre {margin: 0.2em;color: black;border-radius: 0.25em;background-color: #f0f8ff;}#sk-container-id-7 input.sk-toggleable__control:checked~div.sk-toggleable__content {max-height: 200px;max-width: 100%;overflow: auto;}#sk-container-id-7 input.sk-toggleable__control:checked~label.sk-toggleable__label-arrow:before {content: \"▾\";}#sk-container-id-7 div.sk-estimator input.sk-toggleable__control:checked~label.sk-toggleable__label {background-color: #d4ebff;}#sk-container-id-7 div.sk-label input.sk-toggleable__control:checked~label.sk-toggleable__label {background-color: #d4ebff;}#sk-container-id-7 input.sk-hidden--visually {border: 0;clip: rect(1px 1px 1px 1px);clip: rect(1px, 1px, 1px, 1px);height: 1px;margin: -1px;overflow: hidden;padding: 0;position: absolute;width: 1px;}#sk-container-id-7 div.sk-estimator {font-family: monospace;background-color: #f0f8ff;border: 1px dotted black;border-radius: 0.25em;box-sizing: border-box;margin-bottom: 0.5em;}#sk-container-id-7 div.sk-estimator:hover {background-color: #d4ebff;}#sk-container-id-7 div.sk-parallel-item::after {content: \"\";width: 100%;border-bottom: 1px solid gray;flex-grow: 1;}#sk-container-id-7 div.sk-label:hover label.sk-toggleable__label {background-color: #d4ebff;}#sk-container-id-7 div.sk-serial::before {content: \"\";position: absolute;border-left: 1px solid gray;box-sizing: border-box;top: 0;bottom: 0;left: 50%;z-index: 0;}#sk-container-id-7 div.sk-serial {display: flex;flex-direction: column;align-items: center;background-color: white;padding-right: 0.2em;padding-left: 0.2em;position: relative;}#sk-container-id-7 div.sk-item {position: relative;z-index: 1;}#sk-container-id-7 div.sk-parallel {display: flex;align-items: stretch;justify-content: center;background-color: white;position: relative;}#sk-container-id-7 div.sk-item::before, #sk-container-id-7 div.sk-parallel-item::before {content: \"\";position: absolute;border-left: 1px solid gray;box-sizing: border-box;top: 0;bottom: 0;left: 50%;z-index: -1;}#sk-container-id-7 div.sk-parallel-item {display: flex;flex-direction: column;z-index: 1;position: relative;background-color: white;}#sk-container-id-7 div.sk-parallel-item:first-child::after {align-self: flex-end;width: 50%;}#sk-container-id-7 div.sk-parallel-item:last-child::after {align-self: flex-start;width: 50%;}#sk-container-id-7 div.sk-parallel-item:only-child::after {width: 0;}#sk-container-id-7 div.sk-dashed-wrapped {border: 1px dashed gray;margin: 0 0.4em 0.5em 0.4em;box-sizing: border-box;padding-bottom: 0.4em;background-color: white;}#sk-container-id-7 div.sk-label label {font-family: monospace;font-weight: bold;display: inline-block;line-height: 1.2em;}#sk-container-id-7 div.sk-label-container {text-align: center;}#sk-container-id-7 div.sk-container {/* jupyter's `normalize.less` sets `[hidden] { display: none; }` but bootstrap.min.css set `[hidden] { display: none !important; }` so we also need the `!important` here to be able to override the default hidden behavior on the sphinx rendered scikit-learn.org. See: https://github.com/scikit-learn/scikit-learn/issues/21755 */display: inline-block !important;position: relative;}#sk-container-id-7 div.sk-text-repr-fallback {display: none;}</style><div id=\"sk-container-id-7\" class=\"sk-top-container\"><div class=\"sk-text-repr-fallback\"><pre>Pipeline(steps=[(&#x27;tfidfvectorizer&#x27;, TfidfVectorizer()),\n",
              "                (&#x27;multinomialnb&#x27;, MultinomialNB())])</pre><b>In a Jupyter environment, please rerun this cell to show the HTML representation or trust the notebook. <br />On GitHub, the HTML representation is unable to render, please try loading this page with nbviewer.org.</b></div><div class=\"sk-container\" hidden><div class=\"sk-item sk-dashed-wrapped\"><div class=\"sk-label-container\"><div class=\"sk-label sk-toggleable\"><input class=\"sk-toggleable__control sk-hidden--visually\" id=\"sk-estimator-id-11\" type=\"checkbox\" ><label for=\"sk-estimator-id-11\" class=\"sk-toggleable__label sk-toggleable__label-arrow\">Pipeline</label><div class=\"sk-toggleable__content\"><pre>Pipeline(steps=[(&#x27;tfidfvectorizer&#x27;, TfidfVectorizer()),\n",
              "                (&#x27;multinomialnb&#x27;, MultinomialNB())])</pre></div></div></div><div class=\"sk-serial\"><div class=\"sk-item\"><div class=\"sk-estimator sk-toggleable\"><input class=\"sk-toggleable__control sk-hidden--visually\" id=\"sk-estimator-id-12\" type=\"checkbox\" ><label for=\"sk-estimator-id-12\" class=\"sk-toggleable__label sk-toggleable__label-arrow\">TfidfVectorizer</label><div class=\"sk-toggleable__content\"><pre>TfidfVectorizer()</pre></div></div></div><div class=\"sk-item\"><div class=\"sk-estimator sk-toggleable\"><input class=\"sk-toggleable__control sk-hidden--visually\" id=\"sk-estimator-id-13\" type=\"checkbox\" ><label for=\"sk-estimator-id-13\" class=\"sk-toggleable__label sk-toggleable__label-arrow\">MultinomialNB</label><div class=\"sk-toggleable__content\"><pre>MultinomialNB()</pre></div></div></div></div></div></div></div>"
            ]
          },
          "metadata": {},
          "execution_count": 151
        }
      ]
    },
    {
      "cell_type": "code",
      "source": [
        "vectorizer = CountVectorizer()\n",
        "X_train_vec = vectorizer.fit_transform(x_train)\n",
        "X_test_vec = vectorizer.transform(x_test)"
      ],
      "metadata": {
        "id": "8Cxhwuv6TgbS"
      },
      "execution_count": null,
      "outputs": []
    },
    {
      "cell_type": "code",
      "source": [
        "nb_classifier = MultinomialNB()\n",
        "nb_classifier.fit(X_train_vec, y_train)"
      ],
      "metadata": {
        "colab": {
          "base_uri": "https://localhost:8080/",
          "height": 74
        },
        "id": "vDw7GGqSTgYu",
        "outputId": "b0952c15-fc82-4f84-b3d1-77ac2886870f"
      },
      "execution_count": null,
      "outputs": [
        {
          "output_type": "execute_result",
          "data": {
            "text/plain": [
              "MultinomialNB()"
            ],
            "text/html": [
              "<style>#sk-container-id-8 {color: black;background-color: white;}#sk-container-id-8 pre{padding: 0;}#sk-container-id-8 div.sk-toggleable {background-color: white;}#sk-container-id-8 label.sk-toggleable__label {cursor: pointer;display: block;width: 100%;margin-bottom: 0;padding: 0.3em;box-sizing: border-box;text-align: center;}#sk-container-id-8 label.sk-toggleable__label-arrow:before {content: \"▸\";float: left;margin-right: 0.25em;color: #696969;}#sk-container-id-8 label.sk-toggleable__label-arrow:hover:before {color: black;}#sk-container-id-8 div.sk-estimator:hover label.sk-toggleable__label-arrow:before {color: black;}#sk-container-id-8 div.sk-toggleable__content {max-height: 0;max-width: 0;overflow: hidden;text-align: left;background-color: #f0f8ff;}#sk-container-id-8 div.sk-toggleable__content pre {margin: 0.2em;color: black;border-radius: 0.25em;background-color: #f0f8ff;}#sk-container-id-8 input.sk-toggleable__control:checked~div.sk-toggleable__content {max-height: 200px;max-width: 100%;overflow: auto;}#sk-container-id-8 input.sk-toggleable__control:checked~label.sk-toggleable__label-arrow:before {content: \"▾\";}#sk-container-id-8 div.sk-estimator input.sk-toggleable__control:checked~label.sk-toggleable__label {background-color: #d4ebff;}#sk-container-id-8 div.sk-label input.sk-toggleable__control:checked~label.sk-toggleable__label {background-color: #d4ebff;}#sk-container-id-8 input.sk-hidden--visually {border: 0;clip: rect(1px 1px 1px 1px);clip: rect(1px, 1px, 1px, 1px);height: 1px;margin: -1px;overflow: hidden;padding: 0;position: absolute;width: 1px;}#sk-container-id-8 div.sk-estimator {font-family: monospace;background-color: #f0f8ff;border: 1px dotted black;border-radius: 0.25em;box-sizing: border-box;margin-bottom: 0.5em;}#sk-container-id-8 div.sk-estimator:hover {background-color: #d4ebff;}#sk-container-id-8 div.sk-parallel-item::after {content: \"\";width: 100%;border-bottom: 1px solid gray;flex-grow: 1;}#sk-container-id-8 div.sk-label:hover label.sk-toggleable__label {background-color: #d4ebff;}#sk-container-id-8 div.sk-serial::before {content: \"\";position: absolute;border-left: 1px solid gray;box-sizing: border-box;top: 0;bottom: 0;left: 50%;z-index: 0;}#sk-container-id-8 div.sk-serial {display: flex;flex-direction: column;align-items: center;background-color: white;padding-right: 0.2em;padding-left: 0.2em;position: relative;}#sk-container-id-8 div.sk-item {position: relative;z-index: 1;}#sk-container-id-8 div.sk-parallel {display: flex;align-items: stretch;justify-content: center;background-color: white;position: relative;}#sk-container-id-8 div.sk-item::before, #sk-container-id-8 div.sk-parallel-item::before {content: \"\";position: absolute;border-left: 1px solid gray;box-sizing: border-box;top: 0;bottom: 0;left: 50%;z-index: -1;}#sk-container-id-8 div.sk-parallel-item {display: flex;flex-direction: column;z-index: 1;position: relative;background-color: white;}#sk-container-id-8 div.sk-parallel-item:first-child::after {align-self: flex-end;width: 50%;}#sk-container-id-8 div.sk-parallel-item:last-child::after {align-self: flex-start;width: 50%;}#sk-container-id-8 div.sk-parallel-item:only-child::after {width: 0;}#sk-container-id-8 div.sk-dashed-wrapped {border: 1px dashed gray;margin: 0 0.4em 0.5em 0.4em;box-sizing: border-box;padding-bottom: 0.4em;background-color: white;}#sk-container-id-8 div.sk-label label {font-family: monospace;font-weight: bold;display: inline-block;line-height: 1.2em;}#sk-container-id-8 div.sk-label-container {text-align: center;}#sk-container-id-8 div.sk-container {/* jupyter's `normalize.less` sets `[hidden] { display: none; }` but bootstrap.min.css set `[hidden] { display: none !important; }` so we also need the `!important` here to be able to override the default hidden behavior on the sphinx rendered scikit-learn.org. See: https://github.com/scikit-learn/scikit-learn/issues/21755 */display: inline-block !important;position: relative;}#sk-container-id-8 div.sk-text-repr-fallback {display: none;}</style><div id=\"sk-container-id-8\" class=\"sk-top-container\"><div class=\"sk-text-repr-fallback\"><pre>MultinomialNB()</pre><b>In a Jupyter environment, please rerun this cell to show the HTML representation or trust the notebook. <br />On GitHub, the HTML representation is unable to render, please try loading this page with nbviewer.org.</b></div><div class=\"sk-container\" hidden><div class=\"sk-item\"><div class=\"sk-estimator sk-toggleable\"><input class=\"sk-toggleable__control sk-hidden--visually\" id=\"sk-estimator-id-14\" type=\"checkbox\" checked><label for=\"sk-estimator-id-14\" class=\"sk-toggleable__label sk-toggleable__label-arrow\">MultinomialNB</label><div class=\"sk-toggleable__content\"><pre>MultinomialNB()</pre></div></div></div></div></div>"
            ]
          },
          "metadata": {},
          "execution_count": 153
        }
      ]
    },
    {
      "cell_type": "markdown",
      "source": [],
      "metadata": {
        "id": "sItJDoqsfpLE"
      }
    },
    {
      "cell_type": "code",
      "source": [
        "y_pred_NB = nb_classifier.predict(X_test_vec)"
      ],
      "metadata": {
        "id": "LPvaFpn5TgVs"
      },
      "execution_count": null,
      "outputs": []
    },
    {
      "cell_type": "code",
      "source": [
        "precision = precision_score(y_test, y_pred_NB)\n",
        "print(\"Precision:\", precision)\n",
        "\n",
        "recall = recall_score(y_test, y_pred_NB)\n",
        "print(\"Recall:\", recall)\n",
        "\n",
        "accuracy = accuracy_score(y_test, y_pred_NB)\n",
        "print(\"Accuracy:\", accuracy)\n",
        "\n",
        "f1 = f1_score(y_test, y_pred_NB)\n",
        "print(\"F1 Score:\", f1)\n",
        "\n",
        "r2 = r2_score(y_test, y_pred_NB)\n",
        "print(\"R2 Score:\", r2)"
      ],
      "metadata": {
        "colab": {
          "base_uri": "https://localhost:8080/"
        },
        "id": "m9HibwHCTgF2",
        "outputId": "e5c4d625-6ec9-4ef4-a650-b1b80b997597"
      },
      "execution_count": null,
      "outputs": [
        {
          "output_type": "stream",
          "name": "stdout",
          "text": [
            "Precision: 0.7847785402370555\n",
            "Recall: 0.9570178775199696\n",
            "Accuracy: 0.8463745934570499\n",
            "F1 Score: 0.862382176520994\n",
            "R2 Score: 0.385476758755528\n"
          ]
        }
      ]
    },
    {
      "cell_type": "markdown",
      "source": [
        "# SVM"
      ],
      "metadata": {
        "id": "p5j0t0lMWcul"
      }
    },
    {
      "cell_type": "code",
      "source": [
        "#training a svm classifier\n",
        "svm_classifier = SVC(kernel='linear')\n",
        "svm_classifier.fit(X_train_vec, y_train)"
      ],
      "metadata": {
        "colab": {
          "base_uri": "https://localhost:8080/",
          "height": 74
        },
        "id": "Jk4aK55iWhDA",
        "outputId": "9d43d6a0-f42e-424f-9c9f-7d50f8d229c6"
      },
      "execution_count": null,
      "outputs": [
        {
          "output_type": "execute_result",
          "data": {
            "text/plain": [
              "SVC(kernel='linear')"
            ],
            "text/html": [
              "<style>#sk-container-id-9 {color: black;background-color: white;}#sk-container-id-9 pre{padding: 0;}#sk-container-id-9 div.sk-toggleable {background-color: white;}#sk-container-id-9 label.sk-toggleable__label {cursor: pointer;display: block;width: 100%;margin-bottom: 0;padding: 0.3em;box-sizing: border-box;text-align: center;}#sk-container-id-9 label.sk-toggleable__label-arrow:before {content: \"▸\";float: left;margin-right: 0.25em;color: #696969;}#sk-container-id-9 label.sk-toggleable__label-arrow:hover:before {color: black;}#sk-container-id-9 div.sk-estimator:hover label.sk-toggleable__label-arrow:before {color: black;}#sk-container-id-9 div.sk-toggleable__content {max-height: 0;max-width: 0;overflow: hidden;text-align: left;background-color: #f0f8ff;}#sk-container-id-9 div.sk-toggleable__content pre {margin: 0.2em;color: black;border-radius: 0.25em;background-color: #f0f8ff;}#sk-container-id-9 input.sk-toggleable__control:checked~div.sk-toggleable__content {max-height: 200px;max-width: 100%;overflow: auto;}#sk-container-id-9 input.sk-toggleable__control:checked~label.sk-toggleable__label-arrow:before {content: \"▾\";}#sk-container-id-9 div.sk-estimator input.sk-toggleable__control:checked~label.sk-toggleable__label {background-color: #d4ebff;}#sk-container-id-9 div.sk-label input.sk-toggleable__control:checked~label.sk-toggleable__label {background-color: #d4ebff;}#sk-container-id-9 input.sk-hidden--visually {border: 0;clip: rect(1px 1px 1px 1px);clip: rect(1px, 1px, 1px, 1px);height: 1px;margin: -1px;overflow: hidden;padding: 0;position: absolute;width: 1px;}#sk-container-id-9 div.sk-estimator {font-family: monospace;background-color: #f0f8ff;border: 1px dotted black;border-radius: 0.25em;box-sizing: border-box;margin-bottom: 0.5em;}#sk-container-id-9 div.sk-estimator:hover {background-color: #d4ebff;}#sk-container-id-9 div.sk-parallel-item::after {content: \"\";width: 100%;border-bottom: 1px solid gray;flex-grow: 1;}#sk-container-id-9 div.sk-label:hover label.sk-toggleable__label {background-color: #d4ebff;}#sk-container-id-9 div.sk-serial::before {content: \"\";position: absolute;border-left: 1px solid gray;box-sizing: border-box;top: 0;bottom: 0;left: 50%;z-index: 0;}#sk-container-id-9 div.sk-serial {display: flex;flex-direction: column;align-items: center;background-color: white;padding-right: 0.2em;padding-left: 0.2em;position: relative;}#sk-container-id-9 div.sk-item {position: relative;z-index: 1;}#sk-container-id-9 div.sk-parallel {display: flex;align-items: stretch;justify-content: center;background-color: white;position: relative;}#sk-container-id-9 div.sk-item::before, #sk-container-id-9 div.sk-parallel-item::before {content: \"\";position: absolute;border-left: 1px solid gray;box-sizing: border-box;top: 0;bottom: 0;left: 50%;z-index: -1;}#sk-container-id-9 div.sk-parallel-item {display: flex;flex-direction: column;z-index: 1;position: relative;background-color: white;}#sk-container-id-9 div.sk-parallel-item:first-child::after {align-self: flex-end;width: 50%;}#sk-container-id-9 div.sk-parallel-item:last-child::after {align-self: flex-start;width: 50%;}#sk-container-id-9 div.sk-parallel-item:only-child::after {width: 0;}#sk-container-id-9 div.sk-dashed-wrapped {border: 1px dashed gray;margin: 0 0.4em 0.5em 0.4em;box-sizing: border-box;padding-bottom: 0.4em;background-color: white;}#sk-container-id-9 div.sk-label label {font-family: monospace;font-weight: bold;display: inline-block;line-height: 1.2em;}#sk-container-id-9 div.sk-label-container {text-align: center;}#sk-container-id-9 div.sk-container {/* jupyter's `normalize.less` sets `[hidden] { display: none; }` but bootstrap.min.css set `[hidden] { display: none !important; }` so we also need the `!important` here to be able to override the default hidden behavior on the sphinx rendered scikit-learn.org. See: https://github.com/scikit-learn/scikit-learn/issues/21755 */display: inline-block !important;position: relative;}#sk-container-id-9 div.sk-text-repr-fallback {display: none;}</style><div id=\"sk-container-id-9\" class=\"sk-top-container\"><div class=\"sk-text-repr-fallback\"><pre>SVC(kernel=&#x27;linear&#x27;)</pre><b>In a Jupyter environment, please rerun this cell to show the HTML representation or trust the notebook. <br />On GitHub, the HTML representation is unable to render, please try loading this page with nbviewer.org.</b></div><div class=\"sk-container\" hidden><div class=\"sk-item\"><div class=\"sk-estimator sk-toggleable\"><input class=\"sk-toggleable__control sk-hidden--visually\" id=\"sk-estimator-id-15\" type=\"checkbox\" checked><label for=\"sk-estimator-id-15\" class=\"sk-toggleable__label sk-toggleable__label-arrow\">SVC</label><div class=\"sk-toggleable__content\"><pre>SVC(kernel=&#x27;linear&#x27;)</pre></div></div></div></div></div>"
            ]
          },
          "metadata": {},
          "execution_count": 156
        }
      ]
    },
    {
      "cell_type": "code",
      "source": [
        "y_pred_SVM = svm_classifier.predict(X_test_vec)"
      ],
      "metadata": {
        "id": "3iToHb8-Wg_x"
      },
      "execution_count": null,
      "outputs": []
    },
    {
      "cell_type": "code",
      "source": [
        "precision = precision_score(y_test, y_pred_SVM)\n",
        "print(\"Precision:\", precision)\n",
        "\n",
        "recall = recall_score(y_test, y_pred_SVM)\n",
        "print(\"Recall:\", recall)\n",
        "\n",
        "accuracy = accuracy_score(y_test, y_pred_SVM)\n",
        "print(\"Accuracy:\", accuracy)\n",
        "\n",
        "f1 = f1_score(y_test, y_pred_SVM)\n",
        "print(\"F1 Score:\", f1)\n",
        "\n",
        "r2 = r2_score(y_test, y_pred_SVM)\n",
        "print(\"R2 Score:\", r2)"
      ],
      "metadata": {
        "colab": {
          "base_uri": "https://localhost:8080/"
        },
        "id": "3Mi4AVVxWg8X",
        "outputId": "273138ba-3aee-4446-b00b-63af0b3d4d11"
      },
      "execution_count": null,
      "outputs": [
        {
          "output_type": "stream",
          "name": "stdout",
          "text": [
            "Precision: 0.9015524422567209\n",
            "Recall: 0.9056675542031191\n",
            "Accuracy: 0.9028123206428161\n",
            "F1 Score: 0.9036053130929792\n",
            "R2 Score: 0.6112356082787151\n"
          ]
        }
      ]
    },
    {
      "cell_type": "markdown",
      "source": [
        "# Random Forest"
      ],
      "metadata": {
        "id": "bxVJMyGkW0Za"
      }
    },
    {
      "cell_type": "code",
      "source": [
        "rf_classifier = RandomForestClassifier(n_estimators=100, random_state=42)\n",
        "rf_classifier.fit(X_train_vec, y_train)"
      ],
      "metadata": {
        "colab": {
          "base_uri": "https://localhost:8080/",
          "height": 74
        },
        "id": "TtM1-_BDW3ab",
        "outputId": "45d3fbca-5f2c-4d81-8a07-9b43373bcd06"
      },
      "execution_count": null,
      "outputs": [
        {
          "output_type": "execute_result",
          "data": {
            "text/plain": [
              "RandomForestClassifier(random_state=42)"
            ],
            "text/html": [
              "<style>#sk-container-id-10 {color: black;background-color: white;}#sk-container-id-10 pre{padding: 0;}#sk-container-id-10 div.sk-toggleable {background-color: white;}#sk-container-id-10 label.sk-toggleable__label {cursor: pointer;display: block;width: 100%;margin-bottom: 0;padding: 0.3em;box-sizing: border-box;text-align: center;}#sk-container-id-10 label.sk-toggleable__label-arrow:before {content: \"▸\";float: left;margin-right: 0.25em;color: #696969;}#sk-container-id-10 label.sk-toggleable__label-arrow:hover:before {color: black;}#sk-container-id-10 div.sk-estimator:hover label.sk-toggleable__label-arrow:before {color: black;}#sk-container-id-10 div.sk-toggleable__content {max-height: 0;max-width: 0;overflow: hidden;text-align: left;background-color: #f0f8ff;}#sk-container-id-10 div.sk-toggleable__content pre {margin: 0.2em;color: black;border-radius: 0.25em;background-color: #f0f8ff;}#sk-container-id-10 input.sk-toggleable__control:checked~div.sk-toggleable__content {max-height: 200px;max-width: 100%;overflow: auto;}#sk-container-id-10 input.sk-toggleable__control:checked~label.sk-toggleable__label-arrow:before {content: \"▾\";}#sk-container-id-10 div.sk-estimator input.sk-toggleable__control:checked~label.sk-toggleable__label {background-color: #d4ebff;}#sk-container-id-10 div.sk-label input.sk-toggleable__control:checked~label.sk-toggleable__label {background-color: #d4ebff;}#sk-container-id-10 input.sk-hidden--visually {border: 0;clip: rect(1px 1px 1px 1px);clip: rect(1px, 1px, 1px, 1px);height: 1px;margin: -1px;overflow: hidden;padding: 0;position: absolute;width: 1px;}#sk-container-id-10 div.sk-estimator {font-family: monospace;background-color: #f0f8ff;border: 1px dotted black;border-radius: 0.25em;box-sizing: border-box;margin-bottom: 0.5em;}#sk-container-id-10 div.sk-estimator:hover {background-color: #d4ebff;}#sk-container-id-10 div.sk-parallel-item::after {content: \"\";width: 100%;border-bottom: 1px solid gray;flex-grow: 1;}#sk-container-id-10 div.sk-label:hover label.sk-toggleable__label {background-color: #d4ebff;}#sk-container-id-10 div.sk-serial::before {content: \"\";position: absolute;border-left: 1px solid gray;box-sizing: border-box;top: 0;bottom: 0;left: 50%;z-index: 0;}#sk-container-id-10 div.sk-serial {display: flex;flex-direction: column;align-items: center;background-color: white;padding-right: 0.2em;padding-left: 0.2em;position: relative;}#sk-container-id-10 div.sk-item {position: relative;z-index: 1;}#sk-container-id-10 div.sk-parallel {display: flex;align-items: stretch;justify-content: center;background-color: white;position: relative;}#sk-container-id-10 div.sk-item::before, #sk-container-id-10 div.sk-parallel-item::before {content: \"\";position: absolute;border-left: 1px solid gray;box-sizing: border-box;top: 0;bottom: 0;left: 50%;z-index: -1;}#sk-container-id-10 div.sk-parallel-item {display: flex;flex-direction: column;z-index: 1;position: relative;background-color: white;}#sk-container-id-10 div.sk-parallel-item:first-child::after {align-self: flex-end;width: 50%;}#sk-container-id-10 div.sk-parallel-item:last-child::after {align-self: flex-start;width: 50%;}#sk-container-id-10 div.sk-parallel-item:only-child::after {width: 0;}#sk-container-id-10 div.sk-dashed-wrapped {border: 1px dashed gray;margin: 0 0.4em 0.5em 0.4em;box-sizing: border-box;padding-bottom: 0.4em;background-color: white;}#sk-container-id-10 div.sk-label label {font-family: monospace;font-weight: bold;display: inline-block;line-height: 1.2em;}#sk-container-id-10 div.sk-label-container {text-align: center;}#sk-container-id-10 div.sk-container {/* jupyter's `normalize.less` sets `[hidden] { display: none; }` but bootstrap.min.css set `[hidden] { display: none !important; }` so we also need the `!important` here to be able to override the default hidden behavior on the sphinx rendered scikit-learn.org. See: https://github.com/scikit-learn/scikit-learn/issues/21755 */display: inline-block !important;position: relative;}#sk-container-id-10 div.sk-text-repr-fallback {display: none;}</style><div id=\"sk-container-id-10\" class=\"sk-top-container\"><div class=\"sk-text-repr-fallback\"><pre>RandomForestClassifier(random_state=42)</pre><b>In a Jupyter environment, please rerun this cell to show the HTML representation or trust the notebook. <br />On GitHub, the HTML representation is unable to render, please try loading this page with nbviewer.org.</b></div><div class=\"sk-container\" hidden><div class=\"sk-item\"><div class=\"sk-estimator sk-toggleable\"><input class=\"sk-toggleable__control sk-hidden--visually\" id=\"sk-estimator-id-16\" type=\"checkbox\" checked><label for=\"sk-estimator-id-16\" class=\"sk-toggleable__label sk-toggleable__label-arrow\">RandomForestClassifier</label><div class=\"sk-toggleable__content\"><pre>RandomForestClassifier(random_state=42)</pre></div></div></div></div></div>"
            ]
          },
          "metadata": {},
          "execution_count": 159
        }
      ]
    },
    {
      "cell_type": "code",
      "source": [
        "y_pred_RF = rf_classifier.predict(X_test_vec)"
      ],
      "metadata": {
        "id": "PcIL-6lUXBba"
      },
      "execution_count": null,
      "outputs": []
    },
    {
      "cell_type": "code",
      "source": [
        "precision = precision_score(y_test, y_pred_RF)\n",
        "print(\"Precision:\", precision)\n",
        "\n",
        "recall = recall_score(y_test, y_pred_RF)\n",
        "print(\"Recall:\", recall)\n",
        "\n",
        "accuracy = accuracy_score(y_test, y_pred_RF)\n",
        "print(\"Accuracy:\", accuracy)\n",
        "\n",
        "f1 = f1_score(y_test, y_pred_RF)\n",
        "print(\"F1 Score:\", f1)\n",
        "\n",
        "r2 = r2_score(y_test, y_pred_RF)\n",
        "print(\"R2 Score:\", r2)"
      ],
      "metadata": {
        "colab": {
          "base_uri": "https://localhost:8080/"
        },
        "id": "iwFngpYwXBX7",
        "outputId": "d7a230a5-67be-4b96-f911-ed0b03c319d8"
      },
      "execution_count": null,
      "outputs": [
        {
          "output_type": "stream",
          "name": "stdout",
          "text": [
            "Precision: 0.8984078847611827\n",
            "Recall: 0.9014834537847091\n",
            "Accuracy: 0.8991773483833939\n",
            "F1 Score: 0.8999430415796468\n",
            "R2 Score: 0.5966952078009505\n"
          ]
        }
      ]
    },
    {
      "cell_type": "markdown",
      "source": [
        "# Logistic Regression"
      ],
      "metadata": {
        "id": "scNNheJVXHXs"
      }
    },
    {
      "cell_type": "code",
      "source": [
        "logreg_model = LogisticRegression()\n",
        "history=logreg_model.fit(X_train_vec, y_train)"
      ],
      "metadata": {
        "colab": {
          "base_uri": "https://localhost:8080/"
        },
        "id": "2Xg8UZDuXSED",
        "outputId": "6059ee42-90ad-47e8-ddb1-1d7ba2d9d899"
      },
      "execution_count": null,
      "outputs": [
        {
          "output_type": "stream",
          "name": "stderr",
          "text": [
            "/usr/local/lib/python3.10/dist-packages/sklearn/linear_model/_logistic.py:458: ConvergenceWarning: lbfgs failed to converge (status=1):\n",
            "STOP: TOTAL NO. of ITERATIONS REACHED LIMIT.\n",
            "\n",
            "Increase the number of iterations (max_iter) or scale the data as shown in:\n",
            "    https://scikit-learn.org/stable/modules/preprocessing.html\n",
            "Please also refer to the documentation for alternative solver options:\n",
            "    https://scikit-learn.org/stable/modules/linear_model.html#logistic-regression\n",
            "  n_iter_i = _check_optimize_result(\n"
          ]
        }
      ]
    },
    {
      "cell_type": "code",
      "source": [
        "y_pred_LR = logreg_model.predict(X_test_vec)"
      ],
      "metadata": {
        "id": "AXOdxwAWXhJa"
      },
      "execution_count": null,
      "outputs": []
    },
    {
      "cell_type": "code",
      "source": [
        "precision = precision_score(y_test, y_pred_LR)\n",
        "print(\"Precision:\", precision)\n",
        "\n",
        "recall = recall_score(y_test, y_pred_LR)\n",
        "print(\"Recall:\", recall)\n",
        "\n",
        "accuracy = accuracy_score(y_test, y_pred_LR)\n",
        "print(\"Accuracy:\", accuracy)\n",
        "\n",
        "f1 = f1_score(y_test, y_pred_LR)\n",
        "print(\"F1 Score:\", f1)\n",
        "\n",
        "r2 = r2_score(y_test, y_pred_LR)\n",
        "print(\"R2 Score:\", r2)"
      ],
      "metadata": {
        "colab": {
          "base_uri": "https://localhost:8080/"
        },
        "id": "-CM1VFuEXjaC",
        "outputId": "c9e59fee-8df4-4926-fe3a-c21bffd02b34"
      },
      "execution_count": null,
      "outputs": [
        {
          "output_type": "stream",
          "name": "stdout",
          "text": [
            "Precision: 0.933359466875735\n",
            "Recall: 0.9056675542031191\n",
            "Accuracy: 0.9200306102927109\n",
            "F1 Score: 0.9193050193050194\n",
            "R2 Score: 0.6801111894891789\n"
          ]
        }
      ]
    },
    {
      "cell_type": "markdown",
      "source": [
        "# RNN"
      ],
      "metadata": {
        "id": "qhPjYjJNaKu_"
      }
    },
    {
      "cell_type": "markdown",
      "source": [],
      "metadata": {
        "id": "P-P2mpQQYmO6"
      }
    },
    {
      "cell_type": "code",
      "source": [
        "train, val, test =np.split(data.sample(frac=1), [int(0.8*len(data)), int(0.9*len(data))])"
      ],
      "metadata": {
        "id": "n3XiSBxgTSCS"
      },
      "execution_count": null,
      "outputs": []
    },
    {
      "cell_type": "markdown",
      "source": [],
      "metadata": {
        "id": "ntuZILhax52C"
      }
    },
    {
      "cell_type": "code",
      "source": [
        "print(len(train), 'training examples')\n",
        "print(len(val), 'validation examples')\n",
        "print(len(test), 'test examples')"
      ],
      "metadata": {
        "colab": {
          "base_uri": "https://localhost:8080/"
        },
        "id": "pcJdlcQ_bqNM",
        "outputId": "fea3ef93-3626-4ea3-b869-875b0d7d98f0"
      },
      "execution_count": null,
      "outputs": [
        {
          "output_type": "stream",
          "name": "stdout",
          "text": [
            "13938 training examples\n",
            "1742 validation examples\n",
            "1743 test examples\n"
          ]
        }
      ]
    },
    {
      "cell_type": "code",
      "source": [
        "\n",
        "train.head()"
      ],
      "metadata": {
        "id": "AmD_gpEux-Zs",
        "colab": {
          "base_uri": "https://localhost:8080/",
          "height": 206
        },
        "outputId": "10b06c59-4b97-4306-de37-0e5f4e394c26"
      },
      "execution_count": null,
      "outputs": [
        {
          "output_type": "execute_result",
          "data": {
            "text/plain": [
              "                                                    post  n_long_words  \\\n",
              "15793  my dishonesty and my depression are getting in...            37   \n",
              "10696  not qualified...  i ain't gonna go thru my who...            31   \n",
              "11401  schizophrenia vyvanse i used to take vyvanse a...            15   \n",
              "16031  tips what do ya’ll do when you feel yourself g...            10   \n",
              "6894   what is having schizophrenia like? i feel like...             3   \n",
              "\n",
              "       n_monosyllable_words  n_polysyllable_words  n_syllables  \\\n",
              "15793                   269                    14          411   \n",
              "10696                   212                    12          324   \n",
              "11401                    26                     7           65   \n",
              "16031                    39                     3           70   \n",
              "6894                     19                     0           31   \n",
              "\n",
              "       schiz_indicator  \n",
              "15793                0  \n",
              "10696                0  \n",
              "11401                1  \n",
              "16031                0  \n",
              "6894                 1  "
            ],
            "text/html": [
              "\n",
              "  <div id=\"df-613ecae7-646d-412b-a0d0-a0e5f0bc04e3\" class=\"colab-df-container\">\n",
              "    <div>\n",
              "<style scoped>\n",
              "    .dataframe tbody tr th:only-of-type {\n",
              "        vertical-align: middle;\n",
              "    }\n",
              "\n",
              "    .dataframe tbody tr th {\n",
              "        vertical-align: top;\n",
              "    }\n",
              "\n",
              "    .dataframe thead th {\n",
              "        text-align: right;\n",
              "    }\n",
              "</style>\n",
              "<table border=\"1\" class=\"dataframe\">\n",
              "  <thead>\n",
              "    <tr style=\"text-align: right;\">\n",
              "      <th></th>\n",
              "      <th>post</th>\n",
              "      <th>n_long_words</th>\n",
              "      <th>n_monosyllable_words</th>\n",
              "      <th>n_polysyllable_words</th>\n",
              "      <th>n_syllables</th>\n",
              "      <th>schiz_indicator</th>\n",
              "    </tr>\n",
              "  </thead>\n",
              "  <tbody>\n",
              "    <tr>\n",
              "      <th>15793</th>\n",
              "      <td>my dishonesty and my depression are getting in...</td>\n",
              "      <td>37</td>\n",
              "      <td>269</td>\n",
              "      <td>14</td>\n",
              "      <td>411</td>\n",
              "      <td>0</td>\n",
              "    </tr>\n",
              "    <tr>\n",
              "      <th>10696</th>\n",
              "      <td>not qualified...  i ain't gonna go thru my who...</td>\n",
              "      <td>31</td>\n",
              "      <td>212</td>\n",
              "      <td>12</td>\n",
              "      <td>324</td>\n",
              "      <td>0</td>\n",
              "    </tr>\n",
              "    <tr>\n",
              "      <th>11401</th>\n",
              "      <td>schizophrenia vyvanse i used to take vyvanse a...</td>\n",
              "      <td>15</td>\n",
              "      <td>26</td>\n",
              "      <td>7</td>\n",
              "      <td>65</td>\n",
              "      <td>1</td>\n",
              "    </tr>\n",
              "    <tr>\n",
              "      <th>16031</th>\n",
              "      <td>tips what do ya’ll do when you feel yourself g...</td>\n",
              "      <td>10</td>\n",
              "      <td>39</td>\n",
              "      <td>3</td>\n",
              "      <td>70</td>\n",
              "      <td>0</td>\n",
              "    </tr>\n",
              "    <tr>\n",
              "      <th>6894</th>\n",
              "      <td>what is having schizophrenia like? i feel like...</td>\n",
              "      <td>3</td>\n",
              "      <td>19</td>\n",
              "      <td>0</td>\n",
              "      <td>31</td>\n",
              "      <td>1</td>\n",
              "    </tr>\n",
              "  </tbody>\n",
              "</table>\n",
              "</div>\n",
              "    <div class=\"colab-df-buttons\">\n",
              "\n",
              "  <div class=\"colab-df-container\">\n",
              "    <button class=\"colab-df-convert\" onclick=\"convertToInteractive('df-613ecae7-646d-412b-a0d0-a0e5f0bc04e3')\"\n",
              "            title=\"Convert this dataframe to an interactive table.\"\n",
              "            style=\"display:none;\">\n",
              "\n",
              "  <svg xmlns=\"http://www.w3.org/2000/svg\" height=\"24px\" viewBox=\"0 -960 960 960\">\n",
              "    <path d=\"M120-120v-720h720v720H120Zm60-500h600v-160H180v160Zm220 220h160v-160H400v160Zm0 220h160v-160H400v160ZM180-400h160v-160H180v160Zm440 0h160v-160H620v160ZM180-180h160v-160H180v160Zm440 0h160v-160H620v160Z\"/>\n",
              "  </svg>\n",
              "    </button>\n",
              "\n",
              "  <style>\n",
              "    .colab-df-container {\n",
              "      display:flex;\n",
              "      gap: 12px;\n",
              "    }\n",
              "\n",
              "    .colab-df-convert {\n",
              "      background-color: #E8F0FE;\n",
              "      border: none;\n",
              "      border-radius: 50%;\n",
              "      cursor: pointer;\n",
              "      display: none;\n",
              "      fill: #1967D2;\n",
              "      height: 32px;\n",
              "      padding: 0 0 0 0;\n",
              "      width: 32px;\n",
              "    }\n",
              "\n",
              "    .colab-df-convert:hover {\n",
              "      background-color: #E2EBFA;\n",
              "      box-shadow: 0px 1px 2px rgba(60, 64, 67, 0.3), 0px 1px 3px 1px rgba(60, 64, 67, 0.15);\n",
              "      fill: #174EA6;\n",
              "    }\n",
              "\n",
              "    .colab-df-buttons div {\n",
              "      margin-bottom: 4px;\n",
              "    }\n",
              "\n",
              "    [theme=dark] .colab-df-convert {\n",
              "      background-color: #3B4455;\n",
              "      fill: #D2E3FC;\n",
              "    }\n",
              "\n",
              "    [theme=dark] .colab-df-convert:hover {\n",
              "      background-color: #434B5C;\n",
              "      box-shadow: 0px 1px 3px 1px rgba(0, 0, 0, 0.15);\n",
              "      filter: drop-shadow(0px 1px 2px rgba(0, 0, 0, 0.3));\n",
              "      fill: #FFFFFF;\n",
              "    }\n",
              "  </style>\n",
              "\n",
              "    <script>\n",
              "      const buttonEl =\n",
              "        document.querySelector('#df-613ecae7-646d-412b-a0d0-a0e5f0bc04e3 button.colab-df-convert');\n",
              "      buttonEl.style.display =\n",
              "        google.colab.kernel.accessAllowed ? 'block' : 'none';\n",
              "\n",
              "      async function convertToInteractive(key) {\n",
              "        const element = document.querySelector('#df-613ecae7-646d-412b-a0d0-a0e5f0bc04e3');\n",
              "        const dataTable =\n",
              "          await google.colab.kernel.invokeFunction('convertToInteractive',\n",
              "                                                    [key], {});\n",
              "        if (!dataTable) return;\n",
              "\n",
              "        const docLinkHtml = 'Like what you see? Visit the ' +\n",
              "          '<a target=\"_blank\" href=https://colab.research.google.com/notebooks/data_table.ipynb>data table notebook</a>'\n",
              "          + ' to learn more about interactive tables.';\n",
              "        element.innerHTML = '';\n",
              "        dataTable['output_type'] = 'display_data';\n",
              "        await google.colab.output.renderOutput(dataTable, element);\n",
              "        const docLink = document.createElement('div');\n",
              "        docLink.innerHTML = docLinkHtml;\n",
              "        element.appendChild(docLink);\n",
              "      }\n",
              "    </script>\n",
              "  </div>\n",
              "\n",
              "\n",
              "<div id=\"df-903c2a3a-6356-4d54-a6e4-7379e8ed49d1\">\n",
              "  <button class=\"colab-df-quickchart\" onclick=\"quickchart('df-903c2a3a-6356-4d54-a6e4-7379e8ed49d1')\"\n",
              "            title=\"Suggest charts\"\n",
              "            style=\"display:none;\">\n",
              "\n",
              "<svg xmlns=\"http://www.w3.org/2000/svg\" height=\"24px\"viewBox=\"0 0 24 24\"\n",
              "     width=\"24px\">\n",
              "    <g>\n",
              "        <path d=\"M19 3H5c-1.1 0-2 .9-2 2v14c0 1.1.9 2 2 2h14c1.1 0 2-.9 2-2V5c0-1.1-.9-2-2-2zM9 17H7v-7h2v7zm4 0h-2V7h2v10zm4 0h-2v-4h2v4z\"/>\n",
              "    </g>\n",
              "</svg>\n",
              "  </button>\n",
              "\n",
              "<style>\n",
              "  .colab-df-quickchart {\n",
              "      --bg-color: #E8F0FE;\n",
              "      --fill-color: #1967D2;\n",
              "      --hover-bg-color: #E2EBFA;\n",
              "      --hover-fill-color: #174EA6;\n",
              "      --disabled-fill-color: #AAA;\n",
              "      --disabled-bg-color: #DDD;\n",
              "  }\n",
              "\n",
              "  [theme=dark] .colab-df-quickchart {\n",
              "      --bg-color: #3B4455;\n",
              "      --fill-color: #D2E3FC;\n",
              "      --hover-bg-color: #434B5C;\n",
              "      --hover-fill-color: #FFFFFF;\n",
              "      --disabled-bg-color: #3B4455;\n",
              "      --disabled-fill-color: #666;\n",
              "  }\n",
              "\n",
              "  .colab-df-quickchart {\n",
              "    background-color: var(--bg-color);\n",
              "    border: none;\n",
              "    border-radius: 50%;\n",
              "    cursor: pointer;\n",
              "    display: none;\n",
              "    fill: var(--fill-color);\n",
              "    height: 32px;\n",
              "    padding: 0;\n",
              "    width: 32px;\n",
              "  }\n",
              "\n",
              "  .colab-df-quickchart:hover {\n",
              "    background-color: var(--hover-bg-color);\n",
              "    box-shadow: 0 1px 2px rgba(60, 64, 67, 0.3), 0 1px 3px 1px rgba(60, 64, 67, 0.15);\n",
              "    fill: var(--button-hover-fill-color);\n",
              "  }\n",
              "\n",
              "  .colab-df-quickchart-complete:disabled,\n",
              "  .colab-df-quickchart-complete:disabled:hover {\n",
              "    background-color: var(--disabled-bg-color);\n",
              "    fill: var(--disabled-fill-color);\n",
              "    box-shadow: none;\n",
              "  }\n",
              "\n",
              "  .colab-df-spinner {\n",
              "    border: 2px solid var(--fill-color);\n",
              "    border-color: transparent;\n",
              "    border-bottom-color: var(--fill-color);\n",
              "    animation:\n",
              "      spin 1s steps(1) infinite;\n",
              "  }\n",
              "\n",
              "  @keyframes spin {\n",
              "    0% {\n",
              "      border-color: transparent;\n",
              "      border-bottom-color: var(--fill-color);\n",
              "      border-left-color: var(--fill-color);\n",
              "    }\n",
              "    20% {\n",
              "      border-color: transparent;\n",
              "      border-left-color: var(--fill-color);\n",
              "      border-top-color: var(--fill-color);\n",
              "    }\n",
              "    30% {\n",
              "      border-color: transparent;\n",
              "      border-left-color: var(--fill-color);\n",
              "      border-top-color: var(--fill-color);\n",
              "      border-right-color: var(--fill-color);\n",
              "    }\n",
              "    40% {\n",
              "      border-color: transparent;\n",
              "      border-right-color: var(--fill-color);\n",
              "      border-top-color: var(--fill-color);\n",
              "    }\n",
              "    60% {\n",
              "      border-color: transparent;\n",
              "      border-right-color: var(--fill-color);\n",
              "    }\n",
              "    80% {\n",
              "      border-color: transparent;\n",
              "      border-right-color: var(--fill-color);\n",
              "      border-bottom-color: var(--fill-color);\n",
              "    }\n",
              "    90% {\n",
              "      border-color: transparent;\n",
              "      border-bottom-color: var(--fill-color);\n",
              "    }\n",
              "  }\n",
              "</style>\n",
              "\n",
              "  <script>\n",
              "    async function quickchart(key) {\n",
              "      const quickchartButtonEl =\n",
              "        document.querySelector('#' + key + ' button');\n",
              "      quickchartButtonEl.disabled = true;  // To prevent multiple clicks.\n",
              "      quickchartButtonEl.classList.add('colab-df-spinner');\n",
              "      try {\n",
              "        const charts = await google.colab.kernel.invokeFunction(\n",
              "            'suggestCharts', [key], {});\n",
              "      } catch (error) {\n",
              "        console.error('Error during call to suggestCharts:', error);\n",
              "      }\n",
              "      quickchartButtonEl.classList.remove('colab-df-spinner');\n",
              "      quickchartButtonEl.classList.add('colab-df-quickchart-complete');\n",
              "    }\n",
              "    (() => {\n",
              "      let quickchartButtonEl =\n",
              "        document.querySelector('#df-903c2a3a-6356-4d54-a6e4-7379e8ed49d1 button');\n",
              "      quickchartButtonEl.style.display =\n",
              "        google.colab.kernel.accessAllowed ? 'block' : 'none';\n",
              "    })();\n",
              "  </script>\n",
              "</div>\n",
              "\n",
              "    </div>\n",
              "  </div>\n"
            ],
            "application/vnd.google.colaboratory.intrinsic+json": {
              "type": "dataframe",
              "variable_name": "train",
              "summary": "{\n  \"name\": \"train\",\n  \"rows\": 13938,\n  \"fields\": [\n    {\n      \"column\": \"post\",\n      \"properties\": {\n        \"dtype\": \"string\",\n        \"num_unique_values\": 13175,\n        \"samples\": [\n          \"max transfer rule applies per savings account or all accounts? i have two savings accounts. does the six max transfer per calendar month rule apply per account or across all accounts belonging to me?\\n\\nthe rule itself isn't clear and websites explaining the rule seem oblivious. here's the exact text of the rule:  \\n\\n\\n&gt; 6. regulation d requires that an **account**, to be classified as a \\u2018\\u2018savings deposit,\\u2019\\u2019 must not permit more than six convenient transfers or withdrawals per month from the account \\n\\nregulation d does not clarify the definition of account, and i'm afraid if i move money (via internal transfer or check) from one account to the other, and then transfer from that account, that i'll be stuck again with the limit.\\n\\nwhat is the correct answer here? i certainly don't want to be accused of structuring just because i wasn't counting transfers for a rule i wasn't even aware existed yesterday.\",\n          \"do you have a steady job? and if you do, how do you handle bad mental health days while at work? a few weeks ago i started a job that i\\u2019m extremely excited to have. i\\u2019ve been doing great.. more than great, actually, for three months now. doctors say it\\u2019s mania, but whatever. i\\u2019m not going to complain about feeling like i can do anything and being mega-productive and on top of the world. but today is the first bad day i\\u2019ve had in a while. i\\u2019ve been distracted at work because of the things i\\u2019m seeing and hearing every few minutes. my boss has kind of gotten onto me for not being \\u201cwith it\\u201d and i have no idea how to handle this. everything has put me in an awful mood, because i really am trying my best despite the things i\\u2019m currently experiencing. i don\\u2019t know how to explain anything (or even if i should explain anything) to my boss. i work at a medical practice where the doctors (my bosses) don\\u2019t really believe in mental health issues...\\n\\ni was just wondering if you guys are able to hold a job, and what you do to help yourself get through the bad stuff. today is just one of those days where i feel like i should walk out and apply for disability or something. i feel utterly inadequately equipped to have a job right now.\",\n          \"the only time i hear from my psychiatrist is when he emails me to let me know that he has raised his rates again i swear, every six month this guy wants to add an extra $50/hr to his fee.\"\n        ],\n        \"semantic_type\": \"\",\n        \"description\": \"\"\n      }\n    },\n    {\n      \"column\": \"n_long_words\",\n      \"properties\": {\n        \"dtype\": \"number\",\n        \"std\": 28,\n        \"min\": 0,\n        \"max\": 799,\n        \"num_unique_values\": 216,\n        \"samples\": [\n          193,\n          304,\n          152\n        ],\n        \"semantic_type\": \"\",\n        \"description\": \"\"\n      }\n    },\n    {\n      \"column\": \"n_monosyllable_words\",\n      \"properties\": {\n        \"dtype\": \"number\",\n        \"std\": 134,\n        \"min\": 1,\n        \"max\": 3151,\n        \"num_unique_values\": 684,\n        \"samples\": [\n          888,\n          322,\n          464\n        ],\n        \"semantic_type\": \"\",\n        \"description\": \"\"\n      }\n    },\n    {\n      \"column\": \"n_polysyllable_words\",\n      \"properties\": {\n        \"dtype\": \"number\",\n        \"std\": 14,\n        \"min\": 0,\n        \"max\": 462,\n        \"num_unique_values\": 123,\n        \"samples\": [\n          28,\n          33,\n          37\n        ],\n        \"semantic_type\": \"\",\n        \"description\": \"\"\n      }\n    },\n    {\n      \"column\": \"n_syllables\",\n      \"properties\": {\n        \"dtype\": \"number\",\n        \"std\": 231,\n        \"min\": 4,\n        \"max\": 6163,\n        \"num_unique_values\": 996,\n        \"samples\": [\n          934,\n          1175,\n          41\n        ],\n        \"semantic_type\": \"\",\n        \"description\": \"\"\n      }\n    },\n    {\n      \"column\": \"schiz_indicator\",\n      \"properties\": {\n        \"dtype\": \"number\",\n        \"std\": 0,\n        \"min\": 0,\n        \"max\": 1,\n        \"num_unique_values\": 2,\n        \"samples\": [\n          1,\n          0\n        ],\n        \"semantic_type\": \"\",\n        \"description\": \"\"\n      }\n    }\n  ]\n}"
            }
          },
          "metadata": {},
          "execution_count": 167
        }
      ]
    },
    {
      "cell_type": "code",
      "source": [
        "#to convert into tensorflow dataframe\n",
        "def df_to_dataset(dataframe, shuffle=True, batch_size=1024):\n",
        "  df = dataframe.copy()\n",
        "  labels = df.pop('schiz_indicator')\n",
        "  df = df['post']\n",
        "  ds = tf.data.Dataset.from_tensor_slices((df, labels))\n",
        "  if shuffle:\n",
        "    ds = ds.shuffle(buffer_size=len(dataframe))\n",
        "  ds = ds.batch(batch_size)\n",
        "  ds = ds.prefetch(tf.data.AUTOTUNE) #to optimize, fast things\n",
        "  return ds"
      ],
      "metadata": {
        "id": "YBkL9nrdbs-m"
      },
      "execution_count": null,
      "outputs": []
    },
    {
      "cell_type": "code",
      "source": [
        "#to convert into tensorflow dataframe without target variable\n",
        "def df_to_dataset2(dataframe, batch_size=1024):\n",
        "  df = dataframe.copy()\n",
        "  df = df['post']\n",
        "  ds = tf.data.Dataset.from_tensor_slices((df))\n",
        "  ds = ds.batch(batch_size)\n",
        "  ds = ds.prefetch(tf.data.AUTOTUNE)\n",
        "  return ds"
      ],
      "metadata": {
        "id": "XwMMkmY1tIV5"
      },
      "execution_count": null,
      "outputs": []
    },
    {
      "cell_type": "code",
      "source": [
        "train_data=df_to_dataset(train)\n",
        "val_data=df_to_dataset(val)\n",
        "test_data=df_to_dataset(test)"
      ],
      "metadata": {
        "id": "Udlp4NnIcZ2D"
      },
      "execution_count": null,
      "outputs": []
    },
    {
      "cell_type": "code",
      "source": [
        "list(train_data)[0][0]"
      ],
      "metadata": {
        "colab": {
          "base_uri": "https://localhost:8080/"
        },
        "id": "15neTA11cpK1",
        "outputId": "15bd79d2-1a93-4f2b-c3db-2758fd6fd38b"
      },
      "execution_count": null,
      "outputs": [
        {
          "output_type": "execute_result",
          "data": {
            "text/plain": [
              "<tf.Tensor: shape=(1024,), dtype=string, numpy=\n",
              "array([b'schizophrenia how to fight blank mind? i have a blank mind from schizophrenia in which i can\\xe2\\x80\\x99t think like no inner monologue and no memory. and i just feel like i\\xe2\\x80\\x99m controlled by my voices and i do what they want me to do. and i\\xe2\\x80\\x99m just so bored with life. like i don\\xe2\\x80\\x99t want to die but i am just so bored doing nothing each and every day and it\\xe2\\x80\\x99s literally impossible for me to think about suicide since i can\\xe2\\x80\\x99t think. plus i would never commit suicide i\\xe2\\x80\\x99m a christian and even though it feels like god has abandoned me. has anyone had success in fighting this the negative symptom of blank mind? any by the way my voices are very smart and creative smarter than i was back when i was a normal and told me the most elaborate story i ever heard about myself and showed me very vivid pictures of what they were talking about. sorry this post is kinda everywhere i can\\xe2\\x80\\x99t think so i can\\xe2\\x80\\x99t correct what\\xe2\\x80\\x99s right and wrong i just type what the voices say. oh yeah i literally can\\xe2\\x80\\x99t play video games anymore because i\\xe2\\x80\\x99m not smart enough anymore and they confuse me big time. anyway if you have any success with getting rid of your negative symptoms please let me know thank you!',\n",
              "       b'i don\\'t want to work a typical \"first job\" because i think it would exacerbate my depression. i want to go to college mainly to make friends and be with people my age but i don\\'t know what to study. so i dropped out of hs at 15, and since then i lost contact with all my friends. at 18 i started a program for adults to finish hs and i studied mostly from home so that\\'s 6 years (now i\\'m 21) without making new friends and being alone, i think i started getting depressed during these last 6 years, plus i\\'ve been thinking what to do now that i almost have my hs diplome but i\\'m lost. i don\\'t want to have a typical first job like being a waiter or a cashier or work at a mcdonald\\'s because i\\'d feel depressed by getting up just to go do a job i don\\'t want. i\\'m lucky enough to have a family that support me so they told me i could work or study something, the thing is i don\\'t know what to choose because i don\\'t feel smart enough after taking so long to finish hs, everything seems out of my reach. \\n\\ni also have social anxiety and most first jobs require speaking to clients and i freak out by just taking a bus, also some careers i\\'m interested require very good social skills too. i\\'m really lost.',\n",
              "       b\"(can) should i accept pre approved offers of higher credit limit? so, i have one credit card. over the past year they have sent me mail, i called the number, and i was given a higher limit. i understand that if i raise my limit my utilization ratio will go down, but will accepting it have other effects? \\n\\nfrom a year of horrible finances, in december my card balance was $1749 with a $3500 limit. i just made a very large payment, bringing my balance down to $879. i'm living a frugal lifestyle again, and working 50 hours a week to get ahead before it's back to college. \\n\\nif i accept my limit increase, i will have $5000 available on that card. i never plan on using that amount. it is not the best card at 20% interest. will a credit lender view me as more of a risk because i have access to larger sums of money? or would having a larger balance card be beneficial when i seek new credit?\\n\\ni have been wanting a line of credit, or a better card, and i plan on waiting until my current card is paid off in full, approximately 1 month from now. after my credit report shows zero balance.\\n\\nthe only large purchase i have planned this year is a new mattress, pillows, and sheets ($1500 total) later this year, and as much as it is frowned upon, i will be doing this before i build my rainy day fund. getting proper rest is hard when you sleep on a lump.\",\n",
              "       ...,\n",
              "       b\"what were your first symptoms? not too long ago, i woke up at my girlfriend's house after a long night of studying. ive been under great academic strain lately and been sleeping about 4-6 hours a night. when i got out of bed i heard muffled voices. i couldn't decipher what they were saying and figured that it was probably her neighbours being loud. that day went by just fine but on the drive home i began hearing the same voices again. the volume and the tone were identical to the one's i heard at her place except this time i could actually hear them discussing my recent underperformance in one of my courses. \\nupon further research into the topic i realized that many of my symptoms such as emotional and social disconnect, auditory hallucinations and unfounded fear of being watched online align with symptoms of schizophrenia. \\ni told my girlfriend about it and she was extremely supportive and told me that it was probably just stress. \\ni am extremely afraid of going to the do as i'm very close to graduation and such diagnosis would instantly render me unfit for my line of work. \\nit feels as though my life is falling apart before my eyes and for the first time in my life, im unable to do anything about it. \\ni've pulled myself through university despite being more or less homeless multiple times throughout the years. i fought off social anxiety and was able to establish an extremely loving relationship with my girlfriend and make friends.\\nit seems as though this barrier will finally take me down.. \\ncan anyone please tell me what your first experiences with schizophrenia were like and what finally pushed you to seek medical help?\\nthank you in advance. \",\n",
              "       b'heres me &amp;#x200b;\\n\\n[heres me](https://i.redd.it/borjzshw2xu21.jpg)',\n",
              "       b\"someone i met on reddit is about to kill himself and i can't do anything about it. he's been active on this subreddit. he's deleted he's reddit account. he went by u/anonymousguyentity it's fucking with me that i can't do anything to try and help him out. cam anyone help me find if he maybe has an alt account so that i can contact him? maybe someone on here knows him? please help me and him out\"],\n",
              "      dtype=object)>"
            ]
          },
          "metadata": {},
          "execution_count": 171
        }
      ]
    },
    {
      "cell_type": "code",
      "source": [
        "#using embedding to convert text to vector\n",
        "embedding= 'https://tfhub.dev/google/nnlm-en-dim50/2'\n",
        "hub_layer = hub.KerasLayer(embedding, dtype=tf.string, trainable=True)"
      ],
      "metadata": {
        "id": "OhQW4qaCdaKZ"
      },
      "execution_count": null,
      "outputs": []
    },
    {
      "cell_type": "code",
      "source": [
        "hub_layer(list(train_data)[0][0])"
      ],
      "metadata": {
        "colab": {
          "base_uri": "https://localhost:8080/"
        },
        "id": "7p36nqmHeMbw",
        "outputId": "42dab25f-4076-493d-8755-bb7355b8206b"
      },
      "execution_count": null,
      "outputs": [
        {
          "output_type": "execute_result",
          "data": {
            "text/plain": [
              "<tf.Tensor: shape=(1024, 50), dtype=float32, numpy=\n",
              "array([[ 0.7807951 , -0.07422909, -0.21717785, ..., -0.45096916,\n",
              "         0.04796094, -0.2634882 ],\n",
              "       [ 0.82496154,  0.16544168,  0.0417018 , ...,  0.04557968,\n",
              "         0.3010674 ,  0.2605274 ],\n",
              "       [ 0.5547437 , -0.18792981, -0.14624812, ...,  0.09803146,\n",
              "         0.434315  ,  0.26878715],\n",
              "       ...,\n",
              "       [ 0.45574853, -0.11541049, -0.20107321, ..., -0.4676312 ,\n",
              "         0.31512922,  0.00670289],\n",
              "       [ 1.141343  , -0.22588561, -0.15040499, ..., -0.3234773 ,\n",
              "        -0.05456677, -0.03587393],\n",
              "       [ 1.8287596 , -0.0668752 , -0.3137865 , ..., -0.5357969 ,\n",
              "         0.09869067,  0.08637771]], dtype=float32)>"
            ]
          },
          "metadata": {},
          "execution_count": 173
        }
      ]
    },
    {
      "cell_type": "code",
      "source": [
        "model = tf.keras.Sequential()\n",
        "model.add(hub_layer)\n",
        "model.add(tf.keras.layers.Dense(16, activation='relu'))\n",
        "model.add(tf.keras.layers.Dropout(0.4))\n",
        "model.add(tf.keras.layers.Dense(16, activation='relu'))\n",
        "model.add(tf.keras.layers.Dropout(0.4))\n",
        "model.add(tf.keras.layers.Dense(1, activation='sigmoid'))"
      ],
      "metadata": {
        "id": "qzkoO6jreVVh"
      },
      "execution_count": null,
      "outputs": []
    },
    {
      "cell_type": "code",
      "source": [
        "model.compile(optimizer=tf.keras.optimizers.Adam(learning_rate=0.001),\n",
        "              loss=tf.keras.losses.BinaryCrossentropy(),\n",
        "              metrics=['accuracy']\n",
        "              )"
      ],
      "metadata": {
        "id": "C7o6H8Gje0iC"
      },
      "execution_count": null,
      "outputs": []
    },
    {
      "cell_type": "code",
      "source": [
        "model.evaluate(train_data)"
      ],
      "metadata": {
        "colab": {
          "base_uri": "https://localhost:8080/"
        },
        "id": "fiQEVuxAnkMo",
        "outputId": "ac3fa5c2-59c1-4af7-a1b1-b930c0d6d903"
      },
      "execution_count": null,
      "outputs": [
        {
          "output_type": "stream",
          "name": "stdout",
          "text": [
            "14/14 [==============================] - 1s 20ms/step - loss: 0.6841 - accuracy: 0.5475\n"
          ]
        },
        {
          "output_type": "execute_result",
          "data": {
            "text/plain": [
              "[0.6840726137161255, 0.5474960803985596]"
            ]
          },
          "metadata": {},
          "execution_count": 176
        }
      ]
    },
    {
      "cell_type": "code",
      "source": [
        "history = model.fit(train_data, epochs=12, validation_data= val_data)"
      ],
      "metadata": {
        "colab": {
          "base_uri": "https://localhost:8080/"
        },
        "id": "h8I2YVQunrMp",
        "outputId": "0cda29e3-bfe1-4f54-ae24-da524b702731"
      },
      "execution_count": null,
      "outputs": [
        {
          "output_type": "stream",
          "name": "stdout",
          "text": [
            "Epoch 1/12\n",
            "14/14 [==============================] - 5s 217ms/step - loss: 0.6836 - accuracy: 0.5603 - val_loss: 0.6500 - val_accuracy: 0.7067\n",
            "Epoch 2/12\n",
            "14/14 [==============================] - 2s 172ms/step - loss: 0.6528 - accuracy: 0.6271 - val_loss: 0.6206 - val_accuracy: 0.7451\n",
            "Epoch 3/12\n",
            "14/14 [==============================] - 3s 192ms/step - loss: 0.6219 - accuracy: 0.6745 - val_loss: 0.5783 - val_accuracy: 0.7755\n",
            "Epoch 4/12\n",
            "14/14 [==============================] - 2s 171ms/step - loss: 0.5811 - accuracy: 0.7130 - val_loss: 0.5274 - val_accuracy: 0.8008\n",
            "Epoch 5/12\n",
            "14/14 [==============================] - 2s 164ms/step - loss: 0.5416 - accuracy: 0.7465 - val_loss: 0.4711 - val_accuracy: 0.8134\n",
            "Epoch 6/12\n",
            "14/14 [==============================] - 3s 255ms/step - loss: 0.4872 - accuracy: 0.7895 - val_loss: 0.4210 - val_accuracy: 0.8307\n",
            "Epoch 7/12\n",
            "14/14 [==============================] - 2s 161ms/step - loss: 0.4299 - accuracy: 0.8231 - val_loss: 0.3669 - val_accuracy: 0.8502\n",
            "Epoch 8/12\n",
            "14/14 [==============================] - 2s 150ms/step - loss: 0.3715 - accuracy: 0.8591 - val_loss: 0.3243 - val_accuracy: 0.8588\n",
            "Epoch 9/12\n",
            "14/14 [==============================] - 2s 161ms/step - loss: 0.3147 - accuracy: 0.8851 - val_loss: 0.2979 - val_accuracy: 0.8668\n",
            "Epoch 10/12\n",
            "14/14 [==============================] - 2s 145ms/step - loss: 0.2688 - accuracy: 0.9072 - val_loss: 0.2777 - val_accuracy: 0.8789\n",
            "Epoch 11/12\n",
            "14/14 [==============================] - 3s 183ms/step - loss: 0.2284 - accuracy: 0.9236 - val_loss: 0.2685 - val_accuracy: 0.8777\n",
            "Epoch 12/12\n",
            "14/14 [==============================] - 3s 220ms/step - loss: 0.1942 - accuracy: 0.9388 - val_loss: 0.2602 - val_accuracy: 0.8875\n"
          ]
        }
      ]
    },
    {
      "cell_type": "code",
      "source": [
        "plt.plot(history.history['accuracy'], label='Training acc')\n",
        "plt.plot(history.history['val_accuracy'], label='Validation acc')\n",
        "plt.title('Accuracy of model')\n",
        "plt.xlabel('Epoch')\n",
        "plt.ylabel('Accuracy')\n",
        "plt.legend()\n",
        "plt.show()"
      ],
      "metadata": {
        "colab": {
          "base_uri": "https://localhost:8080/",
          "height": 472
        },
        "id": "Fpyflb99n_PA",
        "outputId": "a16b2fcc-9b8f-422e-b9f7-102035e8825f"
      },
      "execution_count": null,
      "outputs": [
        {
          "output_type": "display_data",
          "data": {
            "text/plain": [
              "<Figure size 640x480 with 1 Axes>"
            ],
            "image/png": "[encoded data removed]"
          },
          "metadata": {}
        }
      ]
    },
    {
      "cell_type": "code",
      "source": [
        "plt.plot(history.history['loss'], label='Training loss')\n",
        "plt.plot(history.history['val_loss'], label='Validation loss')\n",
        "plt.title('Loss of model')\n",
        "plt.xlabel('Epoch')\n",
        "plt.ylabel('Loss')\n",
        "plt.legend()\n",
        "plt.show()"
      ],
      "metadata": {
        "colab": {
          "base_uri": "https://localhost:8080/",
          "height": 472
        },
        "id": "i192SDL6pEE0",
        "outputId": "82edb4ba-dce8-481b-b159-329ac7b47150"
      },
      "execution_count": null,
      "outputs": [
        {
          "output_type": "display_data",
          "data": {
            "text/plain": [
              "<Figure size 640x480 with 1 Axes>"
            ],
            "image/png": "[encoded data removed]"
          },
          "metadata": {}
        }
      ]
    },
    {
      "cell_type": "code",
      "source": [
        "model.evaluate(test_data)"
      ],
      "metadata": {
        "id": "VVZfn2jPpb3V",
        "colab": {
          "base_uri": "https://localhost:8080/"
        },
        "outputId": "fabab424-34e7-4c08-fd41-5e6184b9c7ce"
      },
      "execution_count": null,
      "outputs": [
        {
          "output_type": "stream",
          "name": "stdout",
          "text": [
            "2/2 [==============================] - 0s 20ms/step - loss: 0.2750 - accuracy: 0.8858\n"
          ]
        },
        {
          "output_type": "execute_result",
          "data": {
            "text/plain": [
              "[0.2750481069087982, 0.8858290314674377]"
            ]
          },
          "metadata": {},
          "execution_count": 180
        }
      ]
    },
    {
      "cell_type": "code",
      "source": [
        "test.columns"
      ],
      "metadata": {
        "colab": {
          "base_uri": "https://localhost:8080/"
        },
        "id": "Ilzp0vsQw7cX",
        "outputId": "032a67a1-9c67-4f1c-ae0a-4c20599cca6c"
      },
      "execution_count": null,
      "outputs": [
        {
          "output_type": "execute_result",
          "data": {
            "text/plain": [
              "Index(['post', 'n_long_words', 'n_monosyllable_words', 'n_polysyllable_words',\n",
              "       'n_syllables', 'schiz_indicator'],\n",
              "      dtype='object')"
            ]
          },
          "metadata": {},
          "execution_count": 181
        }
      ]
    },
    {
      "cell_type": "code",
      "source": [
        "test1 = df_to_dataset2(test)"
      ],
      "metadata": {
        "id": "tHidY0pUudZW",
        "outputId": "b8fdedf0-8c9e-4340-966d-03723be23604",
        "colab": {
          "base_uri": "https://localhost:8080/",
          "height": 141
        }
      },
      "execution_count": null,
      "outputs": [
        {
          "output_type": "error",
          "ename": "NameError",
          "evalue": "name 'df_to_dataset2' is not defined",
          "traceback": [
            "\u001b[0;31m---------------------------------------------------------------------------\u001b[0m",
            "\u001b[0;31mNameError\u001b[0m                                 Traceback (most recent call last)",
            "\u001b[0;32m<ipython-input-1-45029da3c4b9>\u001b[0m in \u001b[0;36m<cell line: 1>\u001b[0;34m()\u001b[0m\n\u001b[0;32m----> 1\u001b[0;31m \u001b[0mtest1\u001b[0m \u001b[0;34m=\u001b[0m \u001b[0mdf_to_dataset2\u001b[0m\u001b[0;34m(\u001b[0m\u001b[0mtest\u001b[0m\u001b[0;34m)\u001b[0m\u001b[0;34m\u001b[0m\u001b[0;34m\u001b[0m\u001b[0m\n\u001b[0m",
            "\u001b[0;31mNameError\u001b[0m: name 'df_to_dataset2' is not defined"
          ]
        }
      ]
    },
    {
      "cell_type": "code",
      "source": [
        "y_pred_RN = model.predict(test1)"
      ],
      "metadata": {
        "colab": {
          "base_uri": "https://localhost:8080/"
        },
        "id": "-kdL40qBudNd",
        "outputId": "8b829bdf-03c6-496d-b538-0af3e59d0e81"
      },
      "execution_count": null,
      "outputs": [
        {
          "output_type": "stream",
          "name": "stdout",
          "text": [
            "2/2 [==============================] - 0s 16ms/step\n"
          ]
        }
      ]
    },
    {
      "cell_type": "code",
      "source": [
        "y_pred_RN = [0 if i<0.5 else 1 for i in y_pred_RN ]"
      ],
      "metadata": {
        "id": "l6d9G_a8s-tW"
      },
      "execution_count": null,
      "outputs": []
    },
    {
      "cell_type": "code",
      "source": [
        "y_pred_RN[20:25]"
      ],
      "metadata": {
        "colab": {
          "base_uri": "https://localhost:8080/"
        },
        "id": "PAkU8MktudBX",
        "outputId": "9fc1447f-5fdd-4567-ce8d-a3913b5a01c7"
      },
      "execution_count": null,
      "outputs": [
        {
          "output_type": "execute_result",
          "data": {
            "text/plain": [
              "[0, 1, 1, 1, 0]"
            ]
          },
          "metadata": {},
          "execution_count": 185
        }
      ]
    },
    {
      "cell_type": "code",
      "source": [
        "test['schiz_indicator'][20:25]"
      ],
      "metadata": {
        "colab": {
          "base_uri": "https://localhost:8080/"
        },
        "id": "c4gsZNWgu5nF",
        "outputId": "6003c98d-27f9-4464-d95d-930f0516f23a"
      },
      "execution_count": null,
      "outputs": [
        {
          "output_type": "execute_result",
          "data": {
            "text/plain": [
              "5487     0\n",
              "15825    1\n",
              "538      1\n",
              "3657     0\n",
              "3063     0\n",
              "Name: schiz_indicator, dtype: int64"
            ]
          },
          "metadata": {},
          "execution_count": 186
        }
      ]
    },
    {
      "cell_type": "code",
      "source": [
        "\n",
        "conf_matrix = confusion_matrix(test['schiz_indicator'], y_pred_RN)\n",
        "conf_matrix"
      ],
      "metadata": {
        "colab": {
          "base_uri": "https://localhost:8080/"
        },
        "id": "oqtwfrW9vSHT",
        "outputId": "302c4183-106f-48e2-fa0c-8a7b8e0b45cd"
      },
      "execution_count": null,
      "outputs": [
        {
          "output_type": "execute_result",
          "data": {
            "text/plain": [
              "array([[774, 117],\n",
              "       [ 82, 770]])"
            ]
          },
          "metadata": {},
          "execution_count": 187
        }
      ]
    },
    {
      "cell_type": "code",
      "source": [
        "TN, FP, FN, TP = conf_matrix.ravel()\n",
        "sensitivity = TP / (TP + FN)\n",
        "print(\"Sensitivity:\", sensitivity)"
      ],
      "metadata": {
        "colab": {
          "base_uri": "https://localhost:8080/"
        },
        "id": "leMype3wxe51",
        "outputId": "9c61b28a-5e5e-4f1d-d6bd-f145fa3053d8"
      },
      "execution_count": null,
      "outputs": [
        {
          "output_type": "stream",
          "name": "stdout",
          "text": [
            "Sensitivity: 0.903755868544601\n"
          ]
        }
      ]
    },
    {
      "cell_type": "code",
      "source": [
        "\n",
        "\n",
        "precision = precision_score(test['schiz_indicator'], y_pred_RN)\n",
        "print(\"Precision:\", precision)\n",
        "\n",
        "recall = recall_score(test['schiz_indicator'], y_pred_RN)\n",
        "print(\"Recall:\", recall)\n",
        "\n",
        "accuracy = accuracy_score(test['schiz_indicator'], y_pred_RN)\n",
        "print(\"Accuracy:\", accuracy)\n",
        "\n",
        "f1 = f1_score(test['schiz_indicator'], y_pred_RN)\n",
        "print(\"F1 Score:\", f1)\n",
        "\n",
        "r2 = r2_score(test['schiz_indicator'], y_pred_RN)\n",
        "print(\"R2 Score:\", r2)"
      ],
      "metadata": {
        "colab": {
          "base_uri": "https://localhost:8080/"
        },
        "id": "f81K77a7xmfM",
        "outputId": "063560e1-dee0-47d8-c66e-0fc3982a8b16"
      },
      "execution_count": null,
      "outputs": [
        {
          "output_type": "stream",
          "name": "stdout",
          "text": [
            "Precision: 0.8680947012401353\n",
            "Recall: 0.903755868544601\n",
            "Accuracy: 0.8858290304073436\n",
            "F1 Score: 0.885566417481311\n",
            "R2 Score: 0.543087368204739\n"
          ]
        }
      ]
    },
    {
      "cell_type": "code",
      "source": [
        "#model.save('schiz_model.keras')"
      ],
      "metadata": {
        "id": "Od3Df1zVxCCl"
      },
      "execution_count": null,
      "outputs": []
    },
    {
      "cell_type": "markdown",
      "source": [
        "# LSTM"
      ],
      "metadata": {
        "id": "1H_iFHT1tqzs"
      }
    },
    {
      "cell_type": "code",
      "source": [
        "encoder= tf.keras.layers.TextVectorization(max_tokens=2000)\n",
        "encoder.adapt(train_data.map(lambda text, label: text))"
      ],
      "metadata": {
        "id": "D_zGqIh5ttTA"
      },
      "execution_count": null,
      "outputs": []
    },
    {
      "cell_type": "code",
      "source": [
        "vocab= np.array(encoder.get_vocabulary())\n",
        "vocab[:30]"
      ],
      "metadata": {
        "colab": {
          "base_uri": "https://localhost:8080/"
        },
        "id": "dweQ6jpQuG9c",
        "outputId": "b5e4f50f-65da-4ea3-d2c1-b39e57eddba6"
      },
      "execution_count": null,
      "outputs": [
        {
          "output_type": "execute_result",
          "data": {
            "text/plain": [
              "array(['', '[UNK]', 'i', 'to', 'and', 'the', 'a', 'my', 'of', 'in', 'it',\n",
              "       'that', 'is', 'me', 'for', 'but', 'have', 'this', 'with', 'was',\n",
              "       'on', 'im', 'so', 'just', 'or', 'like', 'you', 'be', 'not', 'if'],\n",
              "      dtype='<U15')"
            ]
          },
          "metadata": {},
          "execution_count": 192
        }
      ]
    },
    {
      "cell_type": "code",
      "source": [
        "model_lstm=tf.keras.Sequential([\n",
        "    encoder,\n",
        "    tf.keras.layers.Embedding(input_dim=len(encoder.get_vocabulary()), output_dim=32, mask_zero=True),\n",
        "    tf.keras.layers.LSTM(32),\n",
        "    tf.keras.layers.Dense(32, activation='relu'),\n",
        "    tf.keras.layers.Dropout(0.4),\n",
        "    tf.keras.layers.Dense(1, activation='sigmoid')\n",
        "])"
      ],
      "metadata": {
        "id": "lLKGaYzguR88"
      },
      "execution_count": null,
      "outputs": []
    },
    {
      "cell_type": "code",
      "source": [
        "model_lstm.compile(optimizer=tf.keras.optimizers.Adam(learning_rate=0.001),\n",
        "              loss=tf.keras.losses.BinaryCrossentropy(),\n",
        "              metrics=['accuracy']\n",
        "              )"
      ],
      "metadata": {
        "id": "rPWVp3D7vIUK"
      },
      "execution_count": null,
      "outputs": []
    },
    {
      "cell_type": "code",
      "source": [
        "model_lstm.evaluate(train_data)"
      ],
      "metadata": {
        "colab": {
          "base_uri": "https://localhost:8080/"
        },
        "id": "AxSP567NvZI2",
        "outputId": "0cd6c61c-0a6e-420a-cba2-258299a0355b"
      },
      "execution_count": null,
      "outputs": [
        {
          "output_type": "stream",
          "name": "stdout",
          "text": [
            "14/14 [==============================] - 3s 71ms/step - loss: 0.6933 - accuracy: 0.4912\n"
          ]
        },
        {
          "output_type": "execute_result",
          "data": {
            "text/plain": [
              "[0.693336546421051, 0.49124693870544434]"
            ]
          },
          "metadata": {},
          "execution_count": 195
        }
      ]
    },
    {
      "cell_type": "code",
      "source": [
        "history_lstm = model_lstm.fit(train_data, epochs=20, validation_data= val_data)"
      ],
      "metadata": {
        "colab": {
          "base_uri": "https://localhost:8080/"
        },
        "id": "AxTUBa5uveOl",
        "outputId": "a3dad724-038e-41cc-cd74-1b2960adb42c"
      },
      "execution_count": null,
      "outputs": [
        {
          "output_type": "stream",
          "name": "stdout",
          "text": [
            "Epoch 1/20\n",
            "14/14 [==============================] - 7s 157ms/step - loss: 0.6917 - accuracy: 0.5481 - val_loss: 0.6887 - val_accuracy: 0.5867\n",
            "Epoch 2/20\n",
            "14/14 [==============================] - 2s 146ms/step - loss: 0.6757 - accuracy: 0.6496 - val_loss: 0.6334 - val_accuracy: 0.7239\n",
            "Epoch 3/20\n",
            "14/14 [==============================] - 2s 136ms/step - loss: 0.5658 - accuracy: 0.7592 - val_loss: 0.5238 - val_accuracy: 0.7778\n",
            "Epoch 4/20\n",
            "14/14 [==============================] - 2s 180ms/step - loss: 0.5133 - accuracy: 0.8055 - val_loss: 0.4802 - val_accuracy: 0.8123\n",
            "Epoch 5/20\n",
            "14/14 [==============================] - 2s 161ms/step - loss: 0.4664 - accuracy: 0.8334 - val_loss: 0.6113 - val_accuracy: 0.7325\n",
            "Epoch 6/20\n",
            "14/14 [==============================] - 2s 151ms/step - loss: 0.6026 - accuracy: 0.7369 - val_loss: 0.5077 - val_accuracy: 0.7635\n",
            "Epoch 7/20\n",
            "14/14 [==============================] - 2s 135ms/step - loss: 0.4712 - accuracy: 0.8015 - val_loss: 0.4566 - val_accuracy: 0.8100\n",
            "Epoch 8/20\n",
            "14/14 [==============================] - 2s 136ms/step - loss: 0.4469 - accuracy: 0.8331 - val_loss: 0.4438 - val_accuracy: 0.8157\n",
            "Epoch 9/20\n",
            "14/14 [==============================] - 2s 133ms/step - loss: 0.4162 - accuracy: 0.8430 - val_loss: 0.4295 - val_accuracy: 0.8220\n",
            "Epoch 10/20\n",
            "14/14 [==============================] - 2s 179ms/step - loss: 0.3967 - accuracy: 0.8536 - val_loss: 0.4188 - val_accuracy: 0.8324\n",
            "Epoch 11/20\n",
            "14/14 [==============================] - 2s 141ms/step - loss: 0.3813 - accuracy: 0.8613 - val_loss: 0.4151 - val_accuracy: 0.8347\n",
            "Epoch 12/20\n",
            "14/14 [==============================] - 2s 134ms/step - loss: 0.3693 - accuracy: 0.8686 - val_loss: 0.3972 - val_accuracy: 0.8416\n",
            "Epoch 13/20\n",
            "14/14 [==============================] - 2s 140ms/step - loss: 0.3524 - accuracy: 0.8777 - val_loss: 0.3868 - val_accuracy: 0.8479\n",
            "Epoch 14/20\n",
            "14/14 [==============================] - 2s 137ms/step - loss: 0.3383 - accuracy: 0.8843 - val_loss: 0.3820 - val_accuracy: 0.8548\n",
            "Epoch 15/20\n",
            "14/14 [==============================] - 2s 142ms/step - loss: 0.3275 - accuracy: 0.8886 - val_loss: 0.3760 - val_accuracy: 0.8576\n",
            "Epoch 16/20\n",
            "14/14 [==============================] - 3s 182ms/step - loss: 0.3186 - accuracy: 0.8933 - val_loss: 0.3732 - val_accuracy: 0.8588\n",
            "Epoch 17/20\n",
            "14/14 [==============================] - 2s 143ms/step - loss: 0.3124 - accuracy: 0.8973 - val_loss: 0.3613 - val_accuracy: 0.8617\n",
            "Epoch 18/20\n",
            "14/14 [==============================] - 2s 141ms/step - loss: 0.3029 - accuracy: 0.9008 - val_loss: 0.3551 - val_accuracy: 0.8634\n",
            "Epoch 19/20\n",
            "14/14 [==============================] - 2s 130ms/step - loss: 0.2977 - accuracy: 0.9046 - val_loss: 0.3485 - val_accuracy: 0.8657\n",
            "Epoch 20/20\n",
            "14/14 [==============================] - 2s 133ms/step - loss: 0.2922 - accuracy: 0.9074 - val_loss: 0.3457 - val_accuracy: 0.8668\n"
          ]
        }
      ]
    },
    {
      "cell_type": "code",
      "source": [
        "model_lstm.evaluate(test_data)"
      ],
      "metadata": {
        "colab": {
          "base_uri": "https://localhost:8080/"
        },
        "id": "deaSbATsvoTG",
        "outputId": "6c3853b9-a7e5-4457-ad78-3775ac2c0d1d"
      },
      "execution_count": null,
      "outputs": [
        {
          "output_type": "stream",
          "name": "stdout",
          "text": [
            "2/2 [==============================] - 0s 51ms/step - loss: 0.3538 - accuracy: 0.8703\n"
          ]
        },
        {
          "output_type": "execute_result",
          "data": {
            "text/plain": [
              "[0.3537735342979431, 0.870338499546051]"
            ]
          },
          "metadata": {},
          "execution_count": 197
        }
      ]
    },
    {
      "cell_type": "code",
      "source": [
        "plt.plot(history_lstm.history['accuracy'], label='Training acc')\n",
        "plt.plot(history_lstm.history['val_accuracy'], label='Validation acc')\n",
        "plt.title('Accuracy of model')\n",
        "plt.xlabel('Epoch')\n",
        "plt.ylabel('Accuracy')\n",
        "plt.legend()\n",
        "plt.show()"
      ],
      "metadata": {
        "colab": {
          "base_uri": "https://localhost:8080/",
          "height": 472
        },
        "id": "KmP5Cc3-v6pu",
        "outputId": "965f1eda-6620-4651-ca0b-d8b6f8af1ee5"
      },
      "execution_count": null,
      "outputs": [
        {
          "output_type": "display_data",
          "data": {
            "text/plain": [
              "<Figure size 640x480 with 1 Axes>"
            ],
            "image/png": "[encoded data removed]"
          },
          "metadata": {}
        }
      ]
    },
    {
      "cell_type": "code",
      "source": [
        "plt.plot(history_lstm.history['loss'], label='Training loss')\n",
        "plt.plot(history_lstm.history['val_loss'], label='Validation loss')\n",
        "plt.title('Loss of model')\n",
        "plt.xlabel('Epoch')\n",
        "plt.ylabel('Loss')\n",
        "plt.legend()\n",
        "plt.show()"
      ],
      "metadata": {
        "colab": {
          "base_uri": "https://localhost:8080/",
          "height": 472
        },
        "id": "C3PL4ca9wgKU",
        "outputId": "b438cc0b-ec41-419d-ef07-b6ec564fddb2"
      },
      "execution_count": null,
      "outputs": [
        {
          "output_type": "display_data",
          "data": {
            "text/plain": [
              "<Figure size 640x480 with 1 Axes>"
            ],
            "image/png": "[encoded data removed]"
          },
          "metadata": {}
        }
      ]
    },
    {
      "cell_type": "code",
      "source": [
        "y_pred_LSTM = model.predict(test1)"
      ],
      "metadata": {
        "colab": {
          "base_uri": "https://localhost:8080/"
        },
        "id": "V_IZDML-yFog",
        "outputId": "0223fdf9-56ea-4910-dc09-98f91db2f9b0"
      },
      "execution_count": null,
      "outputs": [
        {
          "output_type": "stream",
          "name": "stdout",
          "text": [
            "2/2 [==============================] - 0s 27ms/step\n"
          ]
        }
      ]
    },
    {
      "cell_type": "code",
      "source": [
        "y_pred_LSTM = [0 if i<0.5 else 1 for i in y_pred_LSTM ]"
      ],
      "metadata": {
        "id": "1UZRtVh8yNE0"
      },
      "execution_count": null,
      "outputs": []
    },
    {
      "cell_type": "code",
      "source": [
        "conf_matrix = confusion_matrix(test['schiz_indicator'], y_pred_LSTM)\n",
        "conf_matrix"
      ],
      "metadata": {
        "colab": {
          "base_uri": "https://localhost:8080/"
        },
        "id": "AV069UhXw2I5",
        "outputId": "afd29a99-4b80-4254-ad5c-de4877d31805"
      },
      "execution_count": null,
      "outputs": [
        {
          "output_type": "execute_result",
          "data": {
            "text/plain": [
              "array([[774, 117],\n",
              "       [ 82, 770]])"
            ]
          },
          "metadata": {},
          "execution_count": 202
        }
      ]
    },
    {
      "cell_type": "code",
      "source": [
        "TN, FP, FN, TP = conf_matrix.ravel()\n",
        "sensitivity = TP / (TP + FN)\n",
        "print(\"Sensitivity:\", sensitivity)"
      ],
      "metadata": {
        "colab": {
          "base_uri": "https://localhost:8080/"
        },
        "id": "xCBJ-RYVUQJD",
        "outputId": "5bf4e2fb-e84a-455a-a60f-80d18a2b8bd8"
      },
      "execution_count": null,
      "outputs": [
        {
          "output_type": "stream",
          "name": "stdout",
          "text": [
            "Sensitivity: 0.903755868544601\n"
          ]
        }
      ]
    },
    {
      "cell_type": "code",
      "source": [
        "precision = precision_score(test['schiz_indicator'], y_pred_LSTM)\n",
        "print(\"Precision:\", precision)\n",
        "\n",
        "recall = recall_score(test['schiz_indicator'], y_pred_LSTM)\n",
        "print(\"Recall:\", recall)\n",
        "\n",
        "accuracy = accuracy_score(test['schiz_indicator'], y_pred_LSTM)\n",
        "print(\"Accuracy:\", accuracy)\n",
        "\n",
        "f1 = f1_score(test['schiz_indicator'], y_pred_LSTM)\n",
        "print(\"F1 Score:\", f1)\n",
        "\n",
        "r2 = r2_score(test['schiz_indicator'], y_pred_LSTM)\n",
        "print(\"R2 Score:\", r2)"
      ],
      "metadata": {
        "colab": {
          "base_uri": "https://localhost:8080/"
        },
        "id": "bsMZPA8EUT8h",
        "outputId": "589933e0-b2ef-41c5-c8ed-f39d05a4ce14"
      },
      "execution_count": null,
      "outputs": [
        {
          "output_type": "stream",
          "name": "stdout",
          "text": [
            "Precision: 0.8680947012401353\n",
            "Recall: 0.903755868544601\n",
            "Accuracy: 0.8858290304073436\n",
            "F1 Score: 0.885566417481311\n",
            "R2 Score: 0.543087368204739\n"
          ]
        }
      ]
    },
    {
      "cell_type": "markdown",
      "source": [
        "# Model summries"
      ],
      "metadata": {
        "id": "NEtGxw9T7wkn"
      }
    },
    {
      "cell_type": "markdown",
      "source": [
        "RNN"
      ],
      "metadata": {
        "id": "ruMSBm6670CI"
      }
    },
    {
      "cell_type": "code",
      "source": [
        "model.summary()"
      ],
      "metadata": {
        "colab": {
          "base_uri": "https://localhost:8080/"
        },
        "id": "qEPspXNW71cp",
        "outputId": "d2b06657-019b-4559-bad7-e73600a5aa5c"
      },
      "execution_count": null,
      "outputs": [
        {
          "output_type": "stream",
          "name": "stdout",
          "text": [
            "Model: \"sequential_2\"\n",
            "_________________________________________________________________\n",
            " Layer (type)                Output Shape              Param #   \n",
            "=================================================================\n",
            " keras_layer_1 (KerasLayer)  (None, 50)                48190600  \n",
            "                                                                 \n",
            " dense_5 (Dense)             (None, 16)                816       \n",
            "                                                                 \n",
            " dropout_3 (Dropout)         (None, 16)                0         \n",
            "                                                                 \n",
            " dense_6 (Dense)             (None, 16)                272       \n",
            "                                                                 \n",
            " dropout_4 (Dropout)         (None, 16)                0         \n",
            "                                                                 \n",
            " dense_7 (Dense)             (None, 1)                 17        \n",
            "                                                                 \n",
            "=================================================================\n",
            "Total params: 48191705 (183.84 MB)\n",
            "Trainable params: 48191705 (183.84 MB)\n",
            "Non-trainable params: 0 (0.00 Byte)\n",
            "_________________________________________________________________\n"
          ]
        }
      ]
    },
    {
      "cell_type": "markdown",
      "source": [
        "LSTM"
      ],
      "metadata": {
        "id": "-3ZhdPA2794l"
      }
    },
    {
      "cell_type": "code",
      "source": [
        "model_lstm.summary()"
      ],
      "metadata": {
        "colab": {
          "base_uri": "https://localhost:8080/"
        },
        "id": "haGX0iuk79Z0",
        "outputId": "82465ed6-2ce8-4b2e-a80d-3cec39fd37d3"
      },
      "execution_count": null,
      "outputs": [
        {
          "output_type": "stream",
          "name": "stdout",
          "text": [
            "Model: \"sequential_3\"\n",
            "_________________________________________________________________\n",
            " Layer (type)                Output Shape              Param #   \n",
            "=================================================================\n",
            " text_vectorization_1 (Text  (None, None)              0         \n",
            " Vectorization)                                                  \n",
            "                                                                 \n",
            " embedding_1 (Embedding)     (None, None, 32)          64000     \n",
            "                                                                 \n",
            " lstm_1 (LSTM)               (None, 32)                8320      \n",
            "                                                                 \n",
            " dense_8 (Dense)             (None, 32)                1056      \n",
            "                                                                 \n",
            " dropout_5 (Dropout)         (None, 32)                0         \n",
            "                                                                 \n",
            " dense_9 (Dense)             (None, 1)                 33        \n",
            "                                                                 \n",
            "=================================================================\n",
            "Total params: 73409 (286.75 KB)\n",
            "Trainable params: 73409 (286.75 KB)\n",
            "Non-trainable params: 0 (0.00 Byte)\n",
            "_________________________________________________________________\n"
          ]
        }
      ]
    },
    {
      "cell_type": "markdown",
      "source": [
        "# Model Comparison"
      ],
      "metadata": {
        "id": "gDbHiYPKBHIO"
      }
    },
    {
      "cell_type": "markdown",
      "source": [
        "## Accuracy, Precision, Recall comparison"
      ],
      "metadata": {
        "id": "eI6R1IAU8gsm"
      }
    },
    {
      "cell_type": "code",
      "source": [
        "model_name=['Naive Bayes', 'SVM', 'Logistic', 'Random Forest', 'RNN', 'LSTM']"
      ],
      "metadata": {
        "id": "d2z-2yEV8rK7"
      },
      "execution_count": null,
      "outputs": []
    },
    {
      "cell_type": "code",
      "source": [
        "accuracy = [0.8463, 0.902, 0.899, 0.920, 0.897, 0.897]\n",
        "precision = [0.784, 0.901, 0.898, 0.933, 0.904, 0.904]\n",
        "f1_score = [0.862, 0.903, 0.899, 0.919, 0.896, 0.896]\n",
        "R2_score = [0.385, 0.611, 0.596, 0.680, 0.591,0.591]"
      ],
      "metadata": {
        "id": "sPz0A3wN8tZx"
      },
      "execution_count": null,
      "outputs": []
    },
    {
      "cell_type": "code",
      "source": [
        "\n",
        "plt.figure(figsize=(10, 6))\n",
        "\n",
        "plt.plot(model_name, accuracy, marker='o', label='Accuracy', color='blue')\n",
        "\n",
        "plt.plot(model_name, precision, marker='s', label='Precision', color='green')\n",
        "\n",
        "plt.plot(model_name, f1_score, marker='^', label='F1 Score', color='red')\n",
        "\n",
        "plt.xlabel('Models')\n",
        "plt.ylabel('Scores')\n",
        "plt.title('Performance Comparison')\n",
        "plt.legend()\n",
        "plt.grid(True)\n",
        "\n",
        "plt.xticks(rotation=45)\n",
        "plt.tight_layout()\n",
        "plt.show()\n"
      ],
      "metadata": {
        "colab": {
          "base_uri": "https://localhost:8080/",
          "height": 607
        },
        "id": "ZdQ7kQSc8mAC",
        "outputId": "7a5aaa0a-fec6-4657-d720-18d5d1a0e5c6"
      },
      "execution_count": null,
      "outputs": [
        {
          "output_type": "display_data",
          "data": {
            "text/plain": [
              "<Figure size 1000x600 with 1 Axes>"
            ],
            "image/png": "[encoded data removed]"
          },
          "metadata": {}
        }
      ]
    },
    {
      "cell_type": "markdown",
      "source": [
        "R2 score"
      ],
      "metadata": {
        "id": "VKkdwrkSAmCb"
      }
    },
    {
      "cell_type": "code",
      "source": [
        "plt.figure(figsize=(8, 6))\n",
        "\n",
        "plt.plot(model_name, R2_score, marker='o', label='R2 Score', color='orange')\n",
        "\n",
        "plt.xlabel('Models')\n",
        "plt.ylabel('R2 Score')\n",
        "plt.title('R2 Score Comparison')\n",
        "plt.legend()\n",
        "plt.grid(True)\n",
        "\n",
        "plt.xticks(rotation=45)\n",
        "plt.tight_layout()\n",
        "plt.show()"
      ],
      "metadata": {
        "colab": {
          "base_uri": "https://localhost:8080/",
          "height": 607
        },
        "id": "_aAoW10GAoQs",
        "outputId": "4ba9929b-50f4-4a18-984c-9ff4421b630c"
      },
      "execution_count": null,
      "outputs": [
        {
          "output_type": "display_data",
          "data": {
            "text/plain": [
              "<Figure size 800x600 with 1 Axes>"
            ],
            "image/png": "[encoded data removed]"
          },
          "metadata": {}
        }
      ]
    },
    {
      "cell_type": "markdown",
      "source": [
        "## ROC curve"
      ],
      "metadata": {
        "id": "PIwvbSlV0YBB"
      }
    },
    {
      "cell_type": "code",
      "source": [
        "#LSTM\n",
        "fpr, tpr, thresholds = roc_curve(test['schiz_indicator'], y_pred_LSTM)\n",
        "roc_auc = auc(fpr, tpr)\n",
        "\n",
        "plt.figure()\n",
        "plt.plot(fpr, tpr, color='darkorange', lw=2, label='ROC curve (area = %0.2f)' % roc_auc)\n",
        "plt.plot([0, 1], [0, 1], color='navy', lw=2, linestyle='--')\n",
        "plt.xlim([0.0, 1.0])\n",
        "plt.ylim([0.0, 1.05])\n",
        "plt.xlabel('False Positive Rate')\n",
        "plt.ylabel('True Positive Rate')\n",
        "plt.title('Receiver Operating Characteristic (ROC) Curve')\n",
        "plt.legend(loc=\"lower right\")\n",
        "plt.show()"
      ],
      "metadata": {
        "colab": {
          "base_uri": "https://localhost:8080/",
          "height": 472
        },
        "id": "ewohV-ay07DG",
        "outputId": "c332fd7b-b53d-4a84-c16c-27065d7dc7af"
      },
      "execution_count": null,
      "outputs": [
        {
          "output_type": "display_data",
          "data": {
            "text/plain": [
              "<Figure size 640x480 with 1 Axes>"
            ],
            "image/png": "[encoded data removed]"
          },
          "metadata": {}
        }
      ]
    },
    {
      "cell_type": "code",
      "source": [
        "#RNN\n",
        "fpr, tpr, thresholds = roc_curve(test['schiz_indicator'], y_pred_RN)\n",
        "roc_auc = auc(fpr, tpr)\n",
        "\n",
        "plt.figure()\n",
        "plt.plot(fpr, tpr, color='darkorange', lw=2, label='ROC curve (area = %0.2f)' % roc_auc)\n",
        "plt.plot([0, 1], [0, 1], color='navy', lw=2, linestyle='--')\n",
        "plt.xlim([0.0, 1.0])\n",
        "plt.ylim([0.0, 1.05])\n",
        "plt.xlabel('False Positive Rate')\n",
        "plt.ylabel('True Positive Rate')\n",
        "plt.title('Receiver Operating Characteristic (ROC) Curve')\n",
        "plt.legend(loc=\"lower right\")\n",
        "plt.show()"
      ],
      "metadata": {
        "colab": {
          "base_uri": "https://localhost:8080/",
          "height": 472
        },
        "id": "mi4siMHI7g15",
        "outputId": "b313491b-2419-4d5f-fc9c-0b61471af748"
      },
      "execution_count": null,
      "outputs": [
        {
          "output_type": "display_data",
          "data": {
            "text/plain": [
              "<Figure size 640x480 with 1 Axes>"
            ],
            "image/png": "[encoded data removed]"
          },
          "metadata": {}
        }
      ]
    },
    {
      "cell_type": "code",
      "source": [
        "y_preds=[]\n",
        "y_preds.append(y_pred_NB)\n",
        "y_preds.append(y_pred_SVM)\n",
        "y_preds.append(y_pred_LR)\n",
        "y_preds.append(y_pred_RF)"
      ],
      "metadata": {
        "id": "rDtstfHb5eJ0"
      },
      "execution_count": null,
      "outputs": []
    },
    {
      "cell_type": "code",
      "source": [
        "plt.figure(figsize=(8, 6))\n",
        "\n",
        "for i, y_pred in enumerate(y_preds):\n",
        "    fpr, tpr, thresholds = roc_curve(y_test, y_pred)\n",
        "    roc_auc = auc(fpr, tpr)\n",
        "    plt.plot(fpr, tpr, lw=2, label='%s (AUC = %0.2f)' % (model_name[i], roc_auc))\n",
        "\n",
        "plt.plot([0, 1], [0, 1], color='navy', lw=2, linestyle='--')\n",
        "\n",
        "plt.xlim([0.0, 1.0])\n",
        "plt.ylim([0.0, 1.05])\n",
        "plt.xlabel('False Positive Rate')\n",
        "plt.ylabel('True Positive Rate')\n",
        "plt.title('Receiver Operating Characteristic (ROC) Curve')\n",
        "plt.legend(loc=\"lower right\")\n",
        "plt.show()"
      ],
      "metadata": {
        "colab": {
          "base_uri": "https://localhost:8080/",
          "height": 564
        },
        "id": "w3QLno751WD4",
        "outputId": "0b6166b6-8896-4a7a-8a94-510e576fb50e"
      },
      "execution_count": null,
      "outputs": [
        {
          "output_type": "display_data",
          "data": {
            "text/plain": [
              "<Figure size 800x600 with 1 Axes>"
            ],
            "image/png": "[encoded data removed]"
          },
          "metadata": {}
        }
      ]
    },
    {
      "cell_type": "code",
      "source": [],
      "metadata": {
        "id": "lJf8p4ex6uZr"
      },
      "execution_count": null,
      "outputs": []
    }
  ]
}